{
 "cells": [
  {
   "cell_type": "markdown",
   "metadata": {},
   "source": [
    "# 导入库"
   ]
  },
  {
   "cell_type": "code",
   "execution_count": 2,
   "metadata": {},
   "outputs": [
    {
     "ename": "ModuleNotFoundError",
     "evalue": "No module named 'tensorflow.examples'",
     "output_type": "error",
     "traceback": [
      "\u001b[1;31m---------------------------------------------------------------------------\u001b[0m",
      "\u001b[1;31mModuleNotFoundError\u001b[0m                       Traceback (most recent call last)",
      "\u001b[1;32m<ipython-input-2-e1e34450df64>\u001b[0m in \u001b[0;36m<module>\u001b[1;34m()\u001b[0m\n\u001b[0;32m      1\u001b[0m \u001b[1;32mimport\u001b[0m \u001b[0mtensorflow\u001b[0m \u001b[1;32mas\u001b[0m \u001b[0mtf\u001b[0m\u001b[1;33m\u001b[0m\u001b[0m\n\u001b[0;32m      2\u001b[0m \u001b[1;33m\u001b[0m\u001b[0m\n\u001b[1;32m----> 3\u001b[1;33m \u001b[1;32mfrom\u001b[0m \u001b[0mtensorflow\u001b[0m\u001b[1;33m.\u001b[0m\u001b[0mexamples\u001b[0m\u001b[1;33m.\u001b[0m\u001b[0mtutorials\u001b[0m\u001b[1;33m.\u001b[0m\u001b[0mmnist\u001b[0m \u001b[1;32mimport\u001b[0m \u001b[0minput_data\u001b[0m\u001b[1;33m\u001b[0m\u001b[0m\n\u001b[0m\u001b[0;32m      4\u001b[0m \u001b[1;33m\u001b[0m\u001b[0m\n\u001b[0;32m      5\u001b[0m \u001b[1;32mfrom\u001b[0m \u001b[0mtensorflow\u001b[0m\u001b[1;33m.\u001b[0m\u001b[0mcontrib\u001b[0m \u001b[1;32mimport\u001b[0m \u001b[0mrnn\u001b[0m\u001b[1;33m\u001b[0m\u001b[0m\n",
      "\u001b[1;31mModuleNotFoundError\u001b[0m: No module named 'tensorflow.examples'"
     ]
    }
   ],
   "source": [
    "import tensorflow as tf\n",
    "\n",
    "from tensorflow.examples.tutorials.mnist import input_data\n",
    "\n",
    "from tensorflow.contrib import rnn\n"
   ]
  },
  {
   "cell_type": "markdown",
   "metadata": {},
   "source": [
    "# 加载数据"
   ]
  },
  {
   "cell_type": "code",
   "execution_count": 7,
   "metadata": {},
   "outputs": [
    {
     "name": "stdout",
     "output_type": "stream",
     "text": [
      "Extracting MNIST_data\\train-images-idx3-ubyte.gz\n",
      "Extracting MNIST_data\\train-labels-idx1-ubyte.gz\n",
      "Extracting MNIST_data\\t10k-images-idx3-ubyte.gz\n",
      "Extracting MNIST_data\\t10k-labels-idx1-ubyte.gz\n",
      "55000 10000 784 10\n",
      "MNIST loaded\n"
     ]
    }
   ],
   "source": [
    "mnist = input_data.read_data_sets(\"MNIST_data\",one_hot=True)\n",
    "\n",
    "trainimgs, trainlabels, testimgs, testlabels = mnist.train.images, mnist.train.labels, mnist.test.images, mnist.test.labels\n",
    "\n",
    "ntrain, ntest, dim, nclasses =trainimgs.shape[0],testimgs.shape[0],trainimgs.shape[1],trainlabels.shape[1]\n",
    "\n",
    "print(ntrain, ntest, dim, nclasses)\n",
    "\n",
    "print (\"MNIST loaded\")"
   ]
  },
  {
   "cell_type": "markdown",
   "metadata": {},
   "source": [
    "# 设置参数,权重，偏置"
   ]
  },
  {
   "cell_type": "code",
   "execution_count": 9,
   "metadata": {
    "collapsed": true
   },
   "outputs": [],
   "source": [
    "diminput = 28\n",
    "\n",
    "dimhidden = 128\n",
    "\n",
    "dimoutput = nclasses\n",
    "\n",
    "nsteps = 28\n",
    "\n",
    "W = {\"h1\" : tf.Variable(tf.random_normal([diminput,dimhidden])),\"h2\" : tf.Variable(tf.random_normal([dimhidden,dimoutput]))}\n",
    "\n",
    "b = {\"b1\" : tf.Variable(tf.random_normal([dimhidden])),\"b2\" : tf.Variable(tf.random_normal([dimoutput]))}"
   ]
  },
  {
   "cell_type": "markdown",
   "metadata": {},
   "source": [
    "# 创建模型"
   ]
  },
  {
   "cell_type": "code",
   "execution_count": 15,
   "metadata": {},
   "outputs": [
    {
     "name": "stdout",
     "output_type": "stream",
     "text": [
      "Network ready\n"
     ]
    }
   ],
   "source": [
    "def RNN(X,W,b,nsteps):\n",
    "    X = tf.transpose(X,[1,0,2])\n",
    "    \n",
    "    X = tf.reshape(X,[-1,diminput])\n",
    "    \n",
    "    H_1 = tf.matmul(X,W[\"h1\"])+b[\"b1\"]\n",
    "    \n",
    "    H_1 = tf.split(H_1,nsteps,0)\n",
    "    \n",
    "    lstm_cell = tf.nn.rnn_cell.BasicLSTMCell(dimhidden,forget_bias=1.0)\n",
    "    \n",
    "    LSTM_O,LSTM_S = rnn.static_rnn(lstm_cell,H_1,dtype=tf.float32)\n",
    "    \n",
    "    O = tf.matmul(LSTM_O[-1],W[\"h2\"])+b[\"b2\"]\n",
    "    \n",
    "    return {\"X\":X,\"H_1\":H_1,\"LSTM_O\":LSTM_O,\"LSTM_S\":LSTM_S,\"O\":O}\n",
    "\n",
    "print (\"Network ready\")"
   ]
  },
  {
   "cell_type": "markdown",
   "metadata": {},
   "source": [
    "# 设置损失，优化,学习率，准确率，参数初始化"
   ]
  },
  {
   "cell_type": "code",
   "execution_count": 18,
   "metadata": {},
   "outputs": [
    {
     "name": "stdout",
     "output_type": "stream",
     "text": [
      "WARNING:tensorflow:From <ipython-input-15-1be4184f1eb2>:10: BasicLSTMCell.__init__ (from tensorflow.python.ops.rnn_cell_impl) is deprecated and will be removed in a future version.\n",
      "Instructions for updating:\n",
      "This class is deprecated, please use tf.nn.rnn_cell.LSTMCell, which supports all the feature this cell currently has. Please replace the existing code with tf.nn.rnn_cell.LSTMCell(name='basic_lstm_cell').\n",
      "WARNING:tensorflow:From <ipython-input-18-fcea488f8803>:11: softmax_cross_entropy_with_logits (from tensorflow.python.ops.nn_ops) is deprecated and will be removed in a future version.\n",
      "Instructions for updating:\n",
      "\n",
      "Future major versions of TensorFlow will allow gradients to flow\n",
      "into the labels input on backprop by default.\n",
      "\n",
      "See `tf.nn.softmax_cross_entropy_with_logits_v2`.\n",
      "\n",
      "Network Ready!\n"
     ]
    }
   ],
   "source": [
    "learning_rate = 0.001\n",
    "\n",
    "x = tf.placeholder(\"float\", [None, nsteps, diminput])\n",
    "\n",
    "y = tf.placeholder(\"float\", [None, dimoutput])\n",
    "\n",
    "myrnn = RNN(x, W, b, nsteps)\n",
    "\n",
    "pred = myrnn['O']\n",
    "\n",
    "cost = tf.reduce_mean(tf.nn.softmax_cross_entropy_with_logits(labels=y,logits=pred))\n",
    "\n",
    "optm = tf.train.GradientDescentOptimizer(learning_rate).minimize(cost)\n",
    "\n",
    "accr = tf.reduce_mean(tf.cast(tf.equal(tf.argmax(pred,1), tf.argmax(y,1)), tf.float32))\n",
    "\n",
    "init = tf.global_variables_initializer()\n",
    "\n",
    "print (\"Network Ready!\")"
   ]
  },
  {
   "cell_type": "markdown",
   "metadata": {},
   "source": [
    "# 训练，测试   "
   ]
  },
  {
   "cell_type": "code",
   "execution_count": 25,
   "metadata": {},
   "outputs": [
    {
     "name": "stdout",
     "output_type": "stream",
     "text": [
      "Start optimization\n",
      "Epoch: 000/005 cost: 0.556356704\n",
      " Training accuracy: 0.750\n",
      " Test accuracy: 0.846\n",
      "Epoch: 001/005 cost: 0.220030497\n",
      " Training accuracy: 1.000\n",
      " Test accuracy: 0.894\n",
      "Epoch: 002/005 cost: 0.147748096\n",
      " Training accuracy: 1.000\n",
      " Test accuracy: 0.920\n",
      "Epoch: 003/005 cost: 0.108106238\n",
      " Training accuracy: 0.938\n",
      " Test accuracy: 0.907\n",
      "Epoch: 004/005 cost: 0.086603803\n",
      " Training accuracy: 1.000\n",
      " Test accuracy: 0.930\n",
      "Optimization Finished.\n"
     ]
    }
   ],
   "source": [
    "#所有样本迭代（epoch）5次\n",
    "\n",
    "training_epochs = 5\n",
    "\n",
    "#每进行一次迭代选择的样本数\n",
    "\n",
    "batch_size = 16\n",
    "\n",
    "#展示\n",
    "\n",
    "display_step = 1\n",
    "\n",
    "sess = tf.Session()\n",
    "\n",
    "sess.run(init)\n",
    "\n",
    "print (\"Start optimization\")\n",
    "\n",
    "for epoch in range(training_epochs):\n",
    "    \n",
    "    avg_cost = 0.\n",
    "    \n",
    "    total_batch = int(mnist.train.num_examples/batch_size)\n",
    "    \n",
    "    #total_batch = 100\n",
    "    \n",
    "    #Loop over all batches\n",
    "    for i in range(total_batch):\n",
    "        \n",
    "        batch_xs, batch_ys = mnist.train.next_batch(batch_size)\n",
    "        \n",
    "        batch_xs = batch_xs.reshape((batch_size, nsteps, diminput))\n",
    "        \n",
    "        # Fit training using batch data\n",
    "        \n",
    "        feeds = {x: batch_xs, y: batch_ys}\n",
    "        \n",
    "        sess.run(optm, feed_dict=feeds)\n",
    "        \n",
    "        # Compute average loss\n",
    "        \n",
    "        avg_cost += sess.run(cost, feed_dict=feeds)/total_batch\n",
    "        \n",
    "    # Display logs per epoch step\n",
    "    \n",
    "    if epoch % display_step == 0:\n",
    "        \n",
    "        print (\"Epoch: %03d/%03d cost: %.9f\" % (epoch, training_epochs, avg_cost))\n",
    "        \n",
    "        feeds = {x: batch_xs, y: batch_ys}\n",
    "        \n",
    "        train_acc = sess.run(accr, feed_dict=feeds)\n",
    "        \n",
    "        print (\" Training accuracy: %.3f\" % (train_acc))\n",
    "        \n",
    "        testimgs = testimgs.reshape((ntest, nsteps, diminput))\n",
    "        \n",
    "        feeds = {x: testimgs, y: testlabels}\n",
    "        \n",
    "        test_acc = sess.run(accr, feed_dict=feeds)\n",
    "        \n",
    "        print (\" Test accuracy: %.3f\" % (test_acc))\n",
    "\n",
    "print (\"Optimization Finished.\")"
   ]
  },
  {
   "cell_type": "code",
   "execution_count": null,
   "metadata": {
    "collapsed": true
   },
   "outputs": [],
   "source": []
  }
 ],
 "metadata": {
  "kernelspec": {
   "display_name": "Python 3",
   "language": "python",
   "name": "python3"
  },
  "language_info": {
   "codemirror_mode": {
    "name": "ipython",
    "version": 3
   },
   "file_extension": ".py",
   "mimetype": "text/x-python",
   "name": "python",
   "nbconvert_exporter": "python",
   "pygments_lexer": "ipython3",
   "version": "3.6.3"
  }
 },
 "nbformat": 4,
 "nbformat_minor": 2
}
