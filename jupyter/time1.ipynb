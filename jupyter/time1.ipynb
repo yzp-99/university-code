{
 "cells": [
  {
   "cell_type": "code",
   "execution_count": 63,
   "metadata": {},
   "outputs": [
    {
     "data": {
      "text/plain": [
       "DatetimeIndex(['2010-01-01 00:00:00+08:00', '2010-06-10 05:06:52+08:00',\n",
       "               '2010-11-17 10:13:44+08:00', '2011-04-26 15:20:36+08:00',\n",
       "               '2011-10-03 20:27:28+08:00', '2012-03-12 01:34:20+08:00',\n",
       "               '2012-08-19 06:41:12+08:00', '2013-01-26 11:48:04+08:00',\n",
       "               '2013-07-05 16:54:56+08:00', '2013-12-12 22:01:48+08:00',\n",
       "               '2014-05-22 03:08:40+08:00', '2014-10-29 08:15:32+08:00',\n",
       "               '2015-04-07 13:22:24+08:00', '2015-09-14 18:29:16+08:00',\n",
       "               '2016-02-21 23:36:08+08:00', '2016-07-31 04:43:00+08:00',\n",
       "               '2017-01-07 09:49:52+08:00', '2017-06-16 14:56:44+08:00',\n",
       "               '2017-11-23 20:03:36+08:00', '2018-05-03 01:10:28+08:00',\n",
       "               '2018-10-10 06:17:20+08:00', '2019-03-19 11:24:12+08:00',\n",
       "               '2019-08-26 16:31:04+08:00'],\n",
       "              dtype='datetime64[ns, Asia/Hong_Kong]', freq='13842412S')"
      ]
     },
     "execution_count": 63,
     "metadata": {},
     "output_type": "execute_result"
    }
   ],
   "source": [
    "import numpy as np\n",
    "from pandas.tseries.offsets import *\n",
    "import pandas as pd\n",
    "\n",
    "DatetimeIndex=pd.date_range(start='2010/1/1', end='2019/12/9 23:59:59', freq='160D5h6min52s',normalize=True, tz='Asia/Hong_Kong')\n",
    "DatetimeIndex"
   ]
  },
  {
   "cell_type": "code",
   "execution_count": 79,
   "metadata": {},
   "outputs": [
    {
     "data": {
      "text/html": [
       "<div>\n",
       "<style>\n",
       "    .dataframe thead tr:only-child th {\n",
       "        text-align: right;\n",
       "    }\n",
       "\n",
       "    .dataframe thead th {\n",
       "        text-align: left;\n",
       "    }\n",
       "\n",
       "    .dataframe tbody tr th {\n",
       "        vertical-align: top;\n",
       "    }\n",
       "</style>\n",
       "<table border=\"1\" class=\"dataframe\">\n",
       "  <thead>\n",
       "    <tr style=\"text-align: right;\">\n",
       "      <th></th>\n",
       "      <th>Diamond</th>\n",
       "      <th>Gold</th>\n",
       "      <th>House</th>\n",
       "    </tr>\n",
       "  </thead>\n",
       "  <tbody>\n",
       "    <tr>\n",
       "      <th>2017</th>\n",
       "      <td>600</td>\n",
       "      <td>400</td>\n",
       "      <td>2000</td>\n",
       "    </tr>\n",
       "    <tr>\n",
       "      <th>2018</th>\n",
       "      <td>650</td>\n",
       "      <td>430</td>\n",
       "      <td>2125</td>\n",
       "    </tr>\n",
       "    <tr>\n",
       "      <th>2019</th>\n",
       "      <td>750</td>\n",
       "      <td>450</td>\n",
       "      <td>2450</td>\n",
       "    </tr>\n",
       "    <tr>\n",
       "      <th>2020</th>\n",
       "      <td>800</td>\n",
       "      <td>460</td>\n",
       "      <td>2600</td>\n",
       "    </tr>\n",
       "  </tbody>\n",
       "</table>\n",
       "</div>"
      ],
      "text/plain": [
       "      Diamond Gold  House\n",
       "2017      600  400   2000\n",
       "2018      650  430   2125\n",
       "2019      750  450   2450\n",
       "2020      800  460   2600"
      ]
     },
     "execution_count": 79,
     "metadata": {},
     "output_type": "execute_result"
    }
   ],
   "source": [
    "import pandas as pd\n",
    "df = pd.DataFrame({'Gold' : \"400 430 450 460\".split(),\n",
    "                   'Diamond' : [600, 650, 750, 800],\n",
    "                  'House' : [2000, 2125, 2450, 2600]},\n",
    "                   index = \"2017 2018 2019 2020\".split())\n",
    "df"
   ]
  },
  {
   "cell_type": "code",
   "execution_count": null,
   "metadata": {},
   "outputs": [],
   "source": []
  },
  {
   "cell_type": "code",
   "execution_count": null,
   "metadata": {},
   "outputs": [],
   "source": []
  },
  {
   "cell_type": "code",
   "execution_count": null,
   "metadata": {
    "collapsed": true
   },
   "outputs": [],
   "source": []
  }
 ],
 "metadata": {
  "kernelspec": {
   "display_name": "Python 3",
   "language": "python",
   "name": "python3"
  },
  "language_info": {
   "codemirror_mode": {
    "name": "ipython",
    "version": 3
   },
   "file_extension": ".py",
   "mimetype": "text/x-python",
   "name": "python",
   "nbconvert_exporter": "python",
   "pygments_lexer": "ipython3",
   "version": "3.6.3"
  }
 },
 "nbformat": 4,
 "nbformat_minor": 2
}
