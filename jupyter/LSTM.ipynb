{
 "cells": [
  {
   "cell_type": "code",
   "execution_count": 1,
   "metadata": {
    "collapsed": true
   },
   "outputs": [],
   "source": [
    "# -*- coding: utf-8 -*-\n",
    "import numpy as np\n",
    "import tensorflow as tf\n",
    "from tensorflow.contrib import rnn\n",
    "import random\n",
    "import time\n",
    "from collections import Counter\n",
    "\n",
    "start_time = time.time()\n",
    "\n",
    "\n",
    "def elapsed(sec):\n",
    "    if sec < 60:\n",
    "        return str(sec) + \" sec\"\n",
    "    elif sec < (60 * 60):\n",
    "        return str(sec / 60) + \" min\"\n",
    "    else:\n",
    "        return str(sec / (60 * 60)) + \" hr\"\n",
    "\n",
    "\n",
    "# Target log path\n",
    "tf.reset_default_graph()\n",
    "training_file = 'wordstest.txt'\n",
    "\n",
    "\n",
    "# 中文多文件\n",
    "def readalltxt(txt_files):\n",
    "    labels = []\n",
    "    for txt_file in txt_files:\n",
    "        target = get_ch_lable(txt_file)\n",
    "        labels.append(target)\n",
    "    return labels\n",
    "\n",
    "\n",
    "# 中文字\n",
    "def get_ch_lable(txt_file):\n",
    "    labels = \"\"\n",
    "    with open(txt_file, 'rb') as f:\n",
    "        for label in f:\n",
    "            labels = labels + label.decode('utf-8')\n",
    "            # labels = labels + label.decode('gb2312')\n",
    "    return labels\n",
    "\n",
    "\n",
    "# 优先转文件里的字符到向量\n",
    "def get_ch_lable_v(txt_file, word_num_map, txt_label=None):\n",
    "    words_size = len(word_num_map)\n",
    "    to_num = lambda word: word_num_map.get(word, words_size)\n",
    "    if txt_file != None:\n",
    "        txt_label = get_ch_lable(txt_file)\n",
    "\n",
    "    labels_vector = list(map(to_num, txt_label))\n",
    "    return labels_vector"
   ]
  },
  {
   "cell_type": "code",
   "execution_count": 2,
   "metadata": {},
   "outputs": [
    {
     "name": "stdout",
     "output_type": "stream",
     "text": [
      "Loaded training data...\n",
      "字表大小: 69\n"
     ]
    }
   ],
   "source": [
    "training_data = get_ch_lable(training_file)\n",
    "print(\"Loaded training data...\")\n",
    "\n",
    "counter = Counter(training_data)\n",
    "words = sorted(counter)\n",
    "words_size = len(words)\n",
    "word_num_map = dict(zip(words, range(words_size)))\n",
    "\n",
    "print('字表大小:', words_size)\n",
    "wordlabel = get_ch_lable_v(training_file, word_num_map)"
   ]
  },
  {
   "cell_type": "code",
   "execution_count": 3,
   "metadata": {
    "collapsed": true
   },
   "outputs": [],
   "source": [
    "# 定义参数\n",
    "learning_rate = 0.001\n",
    "training_iters = 10000\n",
    "display_step = 1000\n",
    "n_input = 4\n",
    "\n",
    "n_hidden1 = 256\n",
    "n_hidden2 = 512\n",
    "n_hidden3 = 512\n",
    "# 定义占位符\n",
    "x = tf.placeholder(\"float\", [None, n_input, 1])\n",
    "wordy = tf.placeholder(\"float\", [None, words_size])"
   ]
  },
  {
   "cell_type": "code",
   "execution_count": 4,
   "metadata": {
    "collapsed": true
   },
   "outputs": [],
   "source": [
    "x1 = tf.reshape(x, [-1, n_input])\n",
    "x2 = tf.split(x1, n_input, 1)\n",
    "# 2-layer LSTM，每层有 n_hidden 个units\n",
    "rnn_cell = rnn.MultiRNNCell([rnn.LSTMCell(n_hidden1), rnn.LSTMCell(n_hidden2), rnn.LSTMCell(n_hidden3)])\n",
    "\n",
    "# 通过RNN得到输出\n",
    "outputs, states = rnn.static_rnn(rnn_cell, x2, dtype=tf.float32)\n",
    "\n",
    "# 通过全连接输出指定维度\n",
    "pred = tf.contrib.layers.fully_connected(outputs[-1], words_size, activation_fn=None)"
   ]
  },
  {
   "cell_type": "code",
   "execution_count": 5,
   "metadata": {},
   "outputs": [
    {
     "name": "stdout",
     "output_type": "stream",
     "text": [
      "WARNING:tensorflow:From <ipython-input-5-f71f31a9c112>:2: softmax_cross_entropy_with_logits (from tensorflow.python.ops.nn_ops) is deprecated and will be removed in a future version.\n",
      "Instructions for updating:\n",
      "\n",
      "Future major versions of TensorFlow will allow gradients to flow\n",
      "into the labels input on backprop by default.\n",
      "\n",
      "See `tf.nn.softmax_cross_entropy_with_logits_v2`.\n",
      "\n"
     ]
    }
   ],
   "source": [
    "# 定义loss与优化器\n",
    "loss = tf.reduce_mean(tf.nn.softmax_cross_entropy_with_logits(logits=pred, labels=wordy))\n",
    "optimizer = tf.train.AdamOptimizer(learning_rate=learning_rate).minimize(loss)\n",
    "\n",
    "# 模型评估\n",
    "correct_pred = tf.equal(tf.argmax(pred, 1), tf.argmax(wordy, 1))\n",
    "accuracy = tf.reduce_mean(tf.cast(correct_pred, tf.float32))"
   ]
  },
  {
   "cell_type": "code",
   "execution_count": null,
   "metadata": {},
   "outputs": [
    {
     "name": "stdout",
     "output_type": "stream",
     "text": [
      "kpt: None\n",
      "Iter= 1000, Average Loss= 3.643567, AverageAccuracy= 9.10%\n",
      "['再', '琐', '碎', '，'] - [我] vs [蕴]\n",
      "Iter= 2000, Average Loss= 1.866052, AverageAccuracy= 43.80%\n",
      "['信', '念', '，', '默'] - [守] vs [守]\n",
      "Iter= 3000, Average Loss= 0.697497, AverageAccuracy= 74.30%\n",
      "['要', '心', '头', '悬'] - [挂] vs [挂]\n",
      "Iter= 4000, Average Loss= 0.377227, AverageAccuracy= 86.00%\n",
      "['琐', '碎', '，', '我'] - [们] vs [们]\n",
      "Iter= 5000, Average Loss= 0.213252, AverageAccuracy= 92.10%\n",
      "['心', '，', '前', '行'] - [的] vs [的]\n",
      "Iter= 6000, Average Loss= 0.158144, AverageAccuracy= 94.20%\n",
      "['的', '灯', '光', '，'] - [我] vs [我]\n",
      "Iter= 7000, Average Loss= 0.320147, AverageAccuracy= 90.40%\n",
      "['、', '再', '普', '通'] - [、] vs [，]\n",
      "Iter= 8000, Average Loss= 0.188951, AverageAccuracy= 92.80%\n",
      "['默', '守', '一', '种'] - [精] vs [精]\n",
      "Iter= 9000, Average Loss= 0.174070, AverageAccuracy= 94.80%\n",
      "['都', '要', '坚', '持'] - [一] vs [一]\n",
      "Iter= 10000, Average Loss= 0.197675, AverageAccuracy= 92.80%\n",
      "['，', '只', '要', '心'] - [头] vs [头]\n",
      "Finished!\n",
      "Elapsed time:  6.947554747263591 min\n",
      "请输入4个字: 前行的气\n",
      "前行的气力。种精神，为自己积淀站立的信心，默守一种精神，为自己积淀站立的\n",
      "请输入4个字: 平凡信念\n",
      "平凡信念不懈地走，理想为我们灌注了精神的再心，默守一种精神，为自己积淀站\n",
      "请输入4个字: 曾啸笛早\n",
      "曾啸笛早藉藉藉藉藉藉藉藉藉藉藉藉藉藉藉藉藉藉藉藉藉藉藉藉藉藉藉藉藉藉藉藉\n"
     ]
    }
   ],
   "source": [
    "savedir = \"C:\\\\Users\\\\zq\\\\NLP\"\n",
    "saver = tf.train.Saver(max_to_keep=1)  # 生成saver\n",
    "\n",
    "# 启动session\n",
    "with tf.Session() as session:\n",
    "    session.run(tf.global_variables_initializer())\n",
    "    step = 0\n",
    "    offset = random.randint(0, n_input + 1)\n",
    "    end_offset = n_input + 1\n",
    "    acc_total = 0\n",
    "    loss_total = 0\n",
    "\n",
    "    kpt = tf.train.latest_checkpoint(savedir)\n",
    "    print(\"kpt:\", kpt)\n",
    "    startepo = 0\n",
    "    if kpt != None:\n",
    "        saver.restore(session, kpt)\n",
    "        ind = kpt.find(\"-\")\n",
    "        startepo = int(kpt[ind + 1:])\n",
    "        print(startepo)\n",
    "        step = startepo\n",
    "\n",
    "    while step < training_iters:\n",
    "\n",
    "        # 随机取一个位置偏移\n",
    "        if offset > (len(training_data) - end_offset):\n",
    "            offset = random.randint(0, n_input + 1)\n",
    "\n",
    "        inwords = [[wordlabel[i]] for i in range(offset, offset + n_input)]  # 按照指定的位置偏移获得后4个文字向量，当作输入\n",
    "\n",
    "        inwords = np.reshape(np.array(inwords), [-1, n_input, 1])\n",
    "\n",
    "        out_onehot = np.zeros([words_size], dtype=float)\n",
    "        out_onehot[wordlabel[offset + n_input]] = 1.0\n",
    "        out_onehot = np.reshape(out_onehot, [1, -1])  # 所有的字都变成onehot\n",
    "\n",
    "        _, acc, lossval, onehot_pred = session.run([optimizer, accuracy, loss, pred],\n",
    "                                                   feed_dict={x: inwords, wordy: out_onehot})\n",
    "        loss_total += lossval\n",
    "        acc_total += acc\n",
    "        if (step + 1) % display_step == 0:\n",
    "            print(\"Iter= \" + str(step + 1) + \", Average Loss= \" + \\\n",
    "                  \"{:.6f}\".format(loss_total / display_step) + \", AverageAccuracy= \" + \\\n",
    "                  \"{:.2f}%\".format(100 * acc_total / display_step))\n",
    "            acc_total = 0\n",
    "            loss_total = 0\n",
    "            in2 = [words[wordlabel[i]] for i in range(offset, offset + n_input)]\n",
    "            out2 = words[wordlabel[offset + n_input]]\n",
    "            out_pred = words[int(tf.argmax(onehot_pred, 1).eval())]\n",
    "            print(\"%s - [%s] vs [%s]\" % (in2, out2, out_pred))\n",
    "            saver.save(session, savedir + \"rnnwordtest.cpkt\", global_step=step)\n",
    "        step += 1\n",
    "        offset += (n_input + 1)  # 调整下一次迭代使用的偏移量\n",
    "\n",
    "    print(\"Finished!\")\n",
    "    saver.save(session, savedir + \"rnnwordtest.cpkt\", global_step=step)\n",
    "    print(\"Elapsed time: \", elapsed(time.time() - start_time))\n",
    "    \n",
    "    \n",
    "    while True:\n",
    "        prompt = \"请输入%s个字: \" % n_input\n",
    "        sentence = input(prompt)\n",
    "        inputword = sentence.strip()\n",
    "\n",
    "        if len(inputword) != n_input:\n",
    "            print(\"您输入的字符长度为：\", len(inputword), \"请输入4个字\")\n",
    "            continue\n",
    "        try:\n",
    "          \n",
    "            inputword = get_ch_lable_v(None, word_num_map, inputword)\n",
    "\n",
    "            for i in range(32):\n",
    "                keys = np.reshape(np.array(inputword), [-1, n_input, 1])\n",
    "                onehot_pred = session.run(pred, feed_dict={x: keys})\n",
    "                onehot_pred_index = int(tf.argmax(onehot_pred, 1).eval())\n",
    "                sentence = \"%s%s\" % (sentence, words[onehot_pred_index])\n",
    "                inputword = inputword[1:]\n",
    "                inputword.append(onehot_pred_index)\n",
    "            print(sentence)\n",
    "        except:\n",
    "            print(\"该字我还没学会\")"
   ]
  },
  {
   "cell_type": "code",
   "execution_count": null,
   "metadata": {
    "collapsed": true
   },
   "outputs": [],
   "source": []
  }
 ],
 "metadata": {
  "kernelspec": {
   "display_name": "Python 3",
   "language": "python",
   "name": "python3"
  },
  "language_info": {
   "codemirror_mode": {
    "name": "ipython",
    "version": 3
   },
   "file_extension": ".py",
   "mimetype": "text/x-python",
   "name": "python",
   "nbconvert_exporter": "python",
   "pygments_lexer": "ipython3",
   "version": "3.6.3"
  }
 },
 "nbformat": 4,
 "nbformat_minor": 2
}
