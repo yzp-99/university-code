{
 "cells": [
  {
   "cell_type": "code",
   "execution_count": 4,
   "metadata": {
    "collapsed": true
   },
   "outputs": [],
   "source": [
    "import numpy as np  #导入Numpy的包"
   ]
  },
  {
   "cell_type": "code",
   "execution_count": 2,
   "metadata": {},
   "outputs": [
    {
     "name": "stdout",
     "output_type": "stream",
     "text": [
      "[[1 2 3]\n",
      " [4 5 6]\n",
      " [7 8 9]]\n"
     ]
    }
   ],
   "source": [
    "arr1 = np.array([[1,2,3],\n",
    "          [4,5,6],\n",
    "          [7,8,9]]\n",
    "        )#创建一个3*3的矩阵\n",
    "print(arr1) #输出矩阵"
   ]
  },
  {
   "cell_type": "code",
   "execution_count": 7,
   "metadata": {},
   "outputs": [
    {
     "name": "stdout",
     "output_type": "stream",
     "text": [
      "[1 2 3 4 5 6 7 8 9]\n",
      "(9,)\n",
      "(9,)\n"
     ]
    }
   ],
   "source": [
    "arr2 = np.arange(1,10)  #用序列生成一个数组\n",
    "print(arr2)\n",
    "print(arr2.shape)  #数组的形状，注意一维数组是（n,）\n",
    "print(arr2.shape)"
   ]
  },
  {
   "cell_type": "code",
   "execution_count": 8,
   "metadata": {},
   "outputs": [
    {
     "name": "stdout",
     "output_type": "stream",
     "text": [
      "[[1 4 7]\n",
      " [2 5 8]\n",
      " [3 6 9]]\n"
     ]
    }
   ],
   "source": [
    "arr3 = arr2.reshape(3,3).T   #重新定义维度，然后转置\n",
    "print(arr3)"
   ]
  },
  {
   "cell_type": "code",
   "execution_count": 13,
   "metadata": {},
   "outputs": [
    {
     "name": "stdout",
     "output_type": "stream",
     "text": [
      "(3, 3)\n",
      "2\n",
      "4\n",
      "9\n",
      "int32\n"
     ]
    }
   ],
   "source": [
    "print(arr3.shape)  #形状\n",
    "print(arr3.ndim)   #维度\n",
    "print(arr3.itemsize)  #每个元素的字节大小\n",
    "print(arr3.size)   #数组中有多少个元素\n",
    "print(arr3.dtype)  #数组中元素的类型"
   ]
  },
  {
   "cell_type": "code",
   "execution_count": 15,
   "metadata": {},
   "outputs": [
    {
     "name": "stdout",
     "output_type": "stream",
     "text": [
      "[[0. 0. 0.]\n",
      " [0. 0. 0.]\n",
      " [0. 0. 0.]]\n",
      "[[0.00000000e+000 0.00000000e+000 0.00000000e+000]\n",
      " [0.00000000e+000 0.00000000e+000 6.28451502e-321]\n",
      " [9.34605036e-307 8.34451503e-308 2.46155397e-312]]\n"
     ]
    }
   ],
   "source": [
    "arr5 = np.zeros((3,3))  #元素均为0的数组\n",
    "arr6 = np.empty((3,3))  #元素接近0的数组\n",
    "print(arr5)\n",
    "print(arr6)\n"
   ]
  },
  {
   "cell_type": "code",
   "execution_count": 66,
   "metadata": {},
   "outputs": [
    {
     "name": "stdout",
     "output_type": "stream",
     "text": [
      "[[0.25314186 0.8117349  0.77484645 0.65135541 0.50042803 0.21412059\n",
      "  0.56640501 0.81582361 0.3225263  0.33999898]\n",
      " [0.95342955 0.84173344 0.30296648 0.6250254  0.37458929 0.03111383\n",
      "  0.00862008 0.73957544 0.65424288 0.32332768]\n",
      " [0.05137438 0.52305162 0.38485258 0.8115977  0.11228627 0.24273322\n",
      "  0.32874904 0.83433858 0.55733501 0.85985372]\n",
      " [0.16553904 0.09418449 0.24241416 0.8318896  0.69458439 0.4990254\n",
      "  0.93170178 0.85622624 0.90195424 0.36133039]\n",
      " [0.14510534 0.99841947 0.10269642 0.95711647 0.9090924  0.21207529\n",
      "  0.28822037 0.66891734 0.78102118 0.06151659]]\n",
      "[[-1.01966125 -0.40977304  0.57821859 -0.73453107 -0.16981404  0.07795546\n",
      "  -1.11306799 -1.44998834  0.86116082  0.88450994]\n",
      " [-1.79109005 -0.57450445  0.8418166  -0.98780904  0.99217887  0.68759178\n",
      "   0.28900736 -0.32297942  0.32550914  0.43821943]\n",
      " [ 1.15760512  0.34886334  0.57162137 -0.09428946 -0.89223864 -2.21369365\n",
      "   0.01066882  0.17107512  0.5637913   0.49417322]\n",
      " [ 0.22241405 -0.25831922 -1.61649056 -0.27486736 -0.9429725   0.68909668\n",
      "  -0.18382446 -0.11744826 -0.09313561 -1.51392162]\n",
      " [ 0.95088667  0.32544026  0.40112679 -0.38693173  0.38349607  1.34942175\n",
      "  -0.6606153   0.51693115 -0.82476378 -0.59697213]]\n",
      "[ 3.24736756 -0.59871121  2.05453413  0.86567411 -1.60272349  0.37530144\n",
      "  0.88657364  2.27651238  0.72002899  1.09061734]\n"
     ]
    }
   ],
   "source": [
    "arr6 = np.random.rand(5,10)  #随机数\n",
    "print(arr6)\n",
    "\n",
    "arr7 = np.random.randn(5,10)  #随机数，且符合正态分布\n",
    "print(arr7)\n",
    "\n",
    "arr8 = np.random.normal(1,2,10)  #正态分布的值\n",
    "# 三个参数分别如下：\n",
    "# loc：float\n",
    "#     此概率分布的均值（对应着整个分布的中心centre）\n",
    "# scale：float\n",
    "#     此概率分布的标准差（对应于分布的宽度，scale越大越矮胖，scale越小，越瘦高）\n",
    "# size：int or tuple of ints\n",
    "#     输出的shape，默认为None，只输出一个值\n",
    "print(arr8)"
   ]
  },
  {
   "cell_type": "code",
   "execution_count": 28,
   "metadata": {
    "scrolled": true
   },
   "outputs": [
    {
     "name": "stdout",
     "output_type": "stream",
     "text": [
      "[1 2 3 4 5 6 7 8 9]\n",
      "[[1 2 3]\n",
      " [4 5 6]\n",
      " [7 8 9]]\n",
      "[[1 4 7]\n",
      " [2 5 8]\n",
      " [3 6 9]]\n",
      "[[  1   4   7]\n",
      " [  2   5 100]\n",
      " [  3   6   9]]\n",
      "[[  1   4   7]\n",
      " [  2   5 100]\n",
      " [  3   6   9]]\n"
     ]
    }
   ],
   "source": [
    "arr10 = np.arange(1,10)\n",
    "print(arr10)\n",
    "arr11 = arr10.reshape((3,3))\n",
    "print(arr11)\n",
    "\n",
    "arr12 = arr11.T\n",
    "print(arr12)\n",
    "arr13 = arr12  #这是浅拷贝，原件与复印件同时修改\n",
    "arr13[1,2] = 100\n",
    "print(arr12)\n",
    "\n",
    "arr14 = np.copy(arr12)  #这是深度拷贝，原件与复印件之间没有关系了！！！\n",
    "arr14[1,2] = 500\n",
    "print(arr12)"
   ]
  },
  {
   "cell_type": "code",
   "execution_count": 33,
   "metadata": {},
   "outputs": [
    {
     "name": "stdout",
     "output_type": "stream",
     "text": [
      "[[  1   4   7]\n",
      " [  2   5 100]\n",
      " [  3   6   9]]\n",
      "[1]\n"
     ]
    }
   ],
   "source": [
    "print(arr12)\n",
    "print(arr12[0,0:1])  #通过下标访问元素"
   ]
  },
  {
   "cell_type": "code",
   "execution_count": 39,
   "metadata": {},
   "outputs": [
    {
     "name": "stdout",
     "output_type": "stream",
     "text": [
      "[[  1   4   7]\n",
      " [  2   5 100]\n",
      " [  3   6   9]]\n",
      "[[  1   4   7]\n",
      " [  2   5 100]\n",
      " [  3   6   9]]\n",
      "[[  1   4   7]\n",
      " [  2   5 100]\n",
      " [  3   6   9]\n",
      " [  1   4   7]\n",
      " [  2   5 100]\n",
      " [  3   6   9]]\n"
     ]
    }
   ],
   "source": [
    "print(arr12)\n",
    "print(arr13)\n",
    "arr20 = np.vstack((arr12,arr13))  #合并数组\n",
    "print(arr20)"
   ]
  },
  {
   "cell_type": "code",
   "execution_count": 47,
   "metadata": {},
   "outputs": [
    {
     "name": "stdout",
     "output_type": "stream",
     "text": [
      "[[  1   4   7]\n",
      " [  2   5 100]\n",
      " [  3   6   9]\n",
      " [  1   4   7]\n",
      " [  2   5 100]\n",
      " [  3   6   9]]\n",
      "[array([[  1,   4,   7],\n",
      "       [  2,   5, 100],\n",
      "       [  3,   6,   9]]), array([[  1,   4,   7],\n",
      "       [  2,   5, 100],\n",
      "       [  3,   6,   9]])]\n"
     ]
    }
   ],
   "source": [
    "print(arr20)\n",
    "print(np.vsplit(arr20,2))  #分割数组"
   ]
  },
  {
   "cell_type": "code",
   "execution_count": 52,
   "metadata": {},
   "outputs": [
    {
     "name": "stdout",
     "output_type": "stream",
     "text": [
      "[[1 2 3]\n",
      " [4 5 6]\n",
      " [7 8 9]]\n",
      "[[1 4 7]\n",
      " [2 5 8]\n",
      " [3 6 9]]\n",
      "[[ 14  32  50]\n",
      " [ 32  77 122]\n",
      " [ 50 122 194]]\n"
     ]
    }
   ],
   "source": [
    "print(arr1)\n",
    "print(arr3)\n",
    "#print(arr1 * arr3)\n",
    "print(np.dot(arr1,arr3))  #矩阵的点乘"
   ]
  },
  {
   "cell_type": "code",
   "execution_count": 54,
   "metadata": {},
   "outputs": [
    {
     "name": "stdout",
     "output_type": "stream",
     "text": [
      "[[1 2 3]\n",
      " [4 5 6]\n",
      " [7 8 9]] [[1 4 7]\n",
      " [2 5 8]\n",
      " [3 6 9]]\n",
      "[[ 1  8 21]\n",
      " [ 8 25 48]\n",
      " [21 48 81]]\n"
     ]
    }
   ],
   "source": [
    "print(arr1,arr3)\n",
    "print(arr1*arr3)  #按位相乘"
   ]
  },
  {
   "cell_type": "code",
   "execution_count": 58,
   "metadata": {},
   "outputs": [
    {
     "name": "stdout",
     "output_type": "stream",
     "text": [
      "[[1 4 7]\n",
      " [2 5 8]\n",
      " [3 6 9]]\n",
      "[1 2 3 4 5 6 7 8 9]\n"
     ]
    }
   ],
   "source": [
    "print(arr3)\n",
    "arr100 = arr3.ravel()  #展开为一维数组\n",
    "arr101 = np.sort(arr100)  #对展开后的数组进行排序\n",
    "print(arr101)"
   ]
  },
  {
   "cell_type": "code",
   "execution_count": 63,
   "metadata": {},
   "outputs": [
    {
     "name": "stdout",
     "output_type": "stream",
     "text": [
      "[[1 4 7]\n",
      " [2 5 8]\n",
      " [3 6 9]]\n",
      "45\n",
      "[ 1  5 12 14 19 27 30 36 45]\n",
      "8\n",
      "5.0\n"
     ]
    }
   ],
   "source": [
    "print(arr3)\n",
    "print(arr3.sum())  #求所有元素的和\n",
    "print(arr3.cumsum())  #求元素的累和\n",
    "print(np.argmax(arr3))  #求最大值的下标\n",
    "print(np.median(arr3))  #求中位数的下标"
   ]
  }
 ],
 "metadata": {
  "kernelspec": {
   "display_name": "Python 3",
   "language": "python",
   "name": "python3"
  },
  "language_info": {
   "codemirror_mode": {
    "name": "ipython",
    "version": 3
   },
   "file_extension": ".py",
   "mimetype": "text/x-python",
   "name": "python",
   "nbconvert_exporter": "python",
   "pygments_lexer": "ipython3",
   "version": "3.6.3"
  }
 },
 "nbformat": 4,
 "nbformat_minor": 2
}
