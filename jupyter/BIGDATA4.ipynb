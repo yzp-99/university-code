{
 "cells": [
  {
   "cell_type": "code",
   "execution_count": 4,
   "metadata": {},
   "outputs": [
    {
     "ename": "NameError",
     "evalue": "name 'df' is not defined",
     "output_type": "error",
     "traceback": [
      "\u001b[1;31m---------------------------------------------------------------------------\u001b[0m",
      "\u001b[1;31mNameError\u001b[0m                                 Traceback (most recent call last)",
      "\u001b[1;32m<ipython-input-4-41263c0754b6>\u001b[0m in \u001b[0;36m<module>\u001b[1;34m()\u001b[0m\n\u001b[0;32m      6\u001b[0m \u001b[1;33m\u001b[0m\u001b[0m\n\u001b[0;32m      7\u001b[0m \u001b[0mdf1\u001b[0m \u001b[1;33m=\u001b[0m \u001b[0mpd\u001b[0m\u001b[1;33m.\u001b[0m\u001b[0mread_csv\u001b[0m\u001b[1;33m(\u001b[0m\u001b[0mCSV_FILE_PATH1\u001b[0m\u001b[1;33m,\u001b[0m\u001b[0mencoding\u001b[0m\u001b[1;33m=\u001b[0m\u001b[1;34m'gbk'\u001b[0m\u001b[1;33m)\u001b[0m\u001b[1;33m\u001b[0m\u001b[0m\n\u001b[1;32m----> 8\u001b[1;33m \u001b[0mprint\u001b[0m\u001b[1;33m(\u001b[0m\u001b[0mdf\u001b[0m\u001b[1;33m.\u001b[0m\u001b[0mhead\u001b[0m\u001b[1;33m(\u001b[0m\u001b[1;36m16\u001b[0m\u001b[1;33m)\u001b[0m\u001b[1;33m)\u001b[0m\u001b[1;33m\u001b[0m\u001b[0m\n\u001b[0m\u001b[0;32m      9\u001b[0m \u001b[0mprint\u001b[0m\u001b[1;33m(\u001b[0m\u001b[0mdf1\u001b[0m\u001b[1;33m[\u001b[0m\u001b[0mdf1\u001b[0m\u001b[1;33m.\u001b[0m\u001b[0mduplicated\u001b[0m\u001b[1;33m(\u001b[0m\u001b[1;33m)\u001b[0m\u001b[1;33m]\u001b[0m\u001b[1;33m)\u001b[0m\u001b[1;31m# 找出全部列的重复项\u001b[0m\u001b[1;33m\u001b[0m\u001b[0m\n\u001b[0;32m     10\u001b[0m \u001b[1;33m\u001b[0m\u001b[0m\n",
      "\u001b[1;31mNameError\u001b[0m: name 'df' is not defined"
     ]
    }
   ],
   "source": [
    "import pandas as pd\n",
    "import matplotlib.pyplot as plt \n",
    "\n",
    "CSV_FILE_PATH1 ='./tianjing.csv'\n",
    "\n",
    "\n",
    "df1 = pd.read_csv(CSV_FILE_PATH1,encoding='gbk')\n",
    "print(df.head(16))\n",
    "print(df1[df1.duplicated()])# 找出全部列的重复项\n",
    "\n",
    "dup1=df1[df1.duplicated()].count()# 统计重复值\n",
    "print(dup1)\n",
    "\n",
    "\n",
    "nodup1=df1[-df1.duplicated()]# 去掉重复项\n",
    "print(nodup1)\n",
    "\n",
    "\n",
    "df1.describe()\n",
    "\n",
    "df1[df1.isnull().values==True]# 显示缺失的行和列\n",
    "\n",
    "plt.rcParams['font.sans-serif'] = ['SimHei'] #用来正常显示中文标签\n",
    "plt.rcParams['axes.unicode_minus'] = False #用来正常显示负号\n",
    "\n",
    "plt.figure() #建立图像\n",
    "p = df1.boxplot() #画箱线图，直接使用DataFrame的方法\n",
    "plt.show() #展示箱线图\n"
   ]
  },
  {
   "cell_type": "code",
   "execution_count": 103,
   "metadata": {},
   "outputs": [
    {
     "name": "stdout",
     "output_type": "stream",
     "text": [
      "   省级单位 地级单位_x 县级单位_x 区划类型_x  行政面积（K㎡）_x  户籍人口（万人）_x   男性_x   女性_x  GDP（亿元）_x  \\\n",
      "0    天津     天津    和平区    市辖区          10       42.32  20.37  21.95     802.62   \n",
      "1    天津     天津    河东区    市辖区          39       75.79  38.06  37.73     290.98   \n",
      "2    天津     天津    河西区    市辖区          37       83.20  40.83  42.37     819.85   \n",
      "3    天津     天津    南开区    市辖区          39       87.28  43.30  43.98     652.09   \n",
      "4    天津     天津    河北区    市辖区          27       63.42  31.86  31.56     415.67   \n",
      "5    天津     天津    红桥区    市辖区          21       51.66  25.93  25.73     208.16   \n",
      "6    天津     天津    东丽区    市辖区         460       37.70  18.83  18.87     927.08   \n",
      "7    天津     天津    西青区    市辖区         545       14.85  19.85  20.38    1040.27   \n",
      "8    天津     天津    津南区    市辖区         401       44.83  22.35  22.48     810.16   \n",
      "9    天津     天津    北辰区    市辖区         478       40.39  20.09  20.30    1058.14   \n",
      "10   天津     天津    武清区    市辖区        1570       92.27  45.86  46.41    1151.65   \n",
      "11   天津     天津    宝坻区    市辖区        1523       71.10  35.72  35.39     684.07   \n",
      "12   天津     天津   滨海新区    市辖区        2270      128.18  66.04  62.14    6654.00   \n",
      "13   天津     天津    宁河区    市辖区        1414       40.00  20.21  19.79     525.37   \n",
      "14   天津     天津    静海区    市辖区        1476       59.79  30.35  29.44     667.83   \n",
      "15   天津     天津    蓟州区    市辖区        1593       86.24  43.86  42.38     392.55   \n",
      "\n",
      "    常住人口（万人）_x  地级单位_y  县级单位_y  区划类型_y  行政面积（K㎡）_y  户籍人口（万人）_y  男性_y  女性_y  \\\n",
      "0        35.19     NaN     NaN     NaN         NaN         NaN   NaN   NaN   \n",
      "1        97.61     NaN     NaN     NaN         NaN         NaN   NaN   NaN   \n",
      "2        99.25     NaN     NaN     NaN         NaN         NaN   NaN   NaN   \n",
      "3       114.55     NaN     NaN     NaN         NaN         NaN   NaN   NaN   \n",
      "4        89.24     NaN     NaN     NaN         NaN         NaN   NaN   NaN   \n",
      "5        56.69     NaN     NaN     NaN         NaN         NaN   NaN   NaN   \n",
      "6        76.04     NaN     NaN     NaN         NaN         NaN   NaN   NaN   \n",
      "7        85.37     NaN     NaN     NaN         NaN         NaN   NaN   NaN   \n",
      "8        89.41     NaN     NaN     NaN         NaN         NaN   NaN   NaN   \n",
      "9          NaN     NaN     NaN     NaN         NaN         NaN   NaN   NaN   \n",
      "10      119.96     NaN     NaN     NaN         NaN         NaN   NaN   NaN   \n",
      "11       92.98     NaN     NaN     NaN         NaN         NaN   NaN   NaN   \n",
      "12      299.42     NaN     NaN     NaN         NaN         NaN   NaN   NaN   \n",
      "13       49.57     NaN     NaN     NaN         NaN         NaN   NaN   NaN   \n",
      "14       79.29     NaN     NaN     NaN         NaN         NaN   NaN   NaN   \n",
      "15       91.15     NaN     NaN     NaN         NaN         NaN   NaN   NaN   \n",
      "\n",
      "    GDP（亿元）_y  常住人口（万人）_y  \n",
      "0         NaN         NaN  \n",
      "1         NaN         NaN  \n",
      "2         NaN         NaN  \n",
      "3         NaN         NaN  \n",
      "4         NaN         NaN  \n",
      "5         NaN         NaN  \n",
      "6         NaN         NaN  \n",
      "7         NaN         NaN  \n",
      "8         NaN         NaN  \n",
      "9         NaN         NaN  \n",
      "10        NaN         NaN  \n",
      "11        NaN         NaN  \n",
      "12        NaN         NaN  \n",
      "13        NaN         NaN  \n",
      "14        NaN         NaN  \n",
      "15        NaN         NaN  \n",
      "  省级单位 地级单位 县级单位 区划类型  行政面积（K㎡）  户籍人口（万人）     男性     女性  GDP（亿元）  常住人口（万人）\n",
      "3   北京   北京  西城区  市辖区        51    146.47  72.88  73.59  3602.36     125.9\n",
      "6   北京   北京  丰台区  市辖区       306    115.33  58.39  56.95  1297.03     225.5\n",
      "9   北京   北京  房山区  市辖区      1990     81.28  40.76  40.52   606.61     109.6\n",
      "省级单位        3\n",
      "地级单位        3\n",
      "县级单位        3\n",
      "区划类型        3\n",
      "行政面积（K㎡）    3\n",
      "户籍人口（万人）    3\n",
      "男性          3\n",
      "女性          3\n",
      "GDP（亿元）     3\n",
      "常住人口（万人）    3\n",
      "dtype: int64\n",
      "   省级单位 地级单位  县级单位 区划类型  行政面积（K㎡）  户籍人口（万人）      男性      女性  GDP（亿元）  常住人口（万人）\n",
      "0    北京   北京   西城区  市辖区        51    146.47   72.88   73.59  3602.36     125.9\n",
      "1    北京   北京   东城区  市辖区        42     97.41   47.91   49.50  2061.80      87.8\n",
      "2    北京   北京   丰台区  市辖区       306    115.33   58.39   56.95  1297.03     225.5\n",
      "4    北京   北京   朝阳区  市辖区       455    210.91  105.43  105.48  5171.03     385.6\n",
      "5    北京   北京   房山区  市辖区      1990     81.28   40.76   40.52   606.61     109.6\n",
      "7    北京   北京  石景山区  市辖区        84     38.69   19.87   18.82   482.14      63.4\n",
      "8    北京   北京   海淀区  市辖区       431    240.20  120.08  120.12  5395.16     359.3\n",
      "10   北京   北京   通州区  市辖区       906     74.68   37.08   37.60   674.81     142.8\n",
      "11   北京   北京   顺义区  市辖区      1020     62.74   31.12   31.61  1591.60     107.5\n",
      "12   北京   北京   昌平区  市辖区      1344     61.14   30.72   30.41   753.39     201.0\n",
      "13   北京   北京   大兴区  市辖区      1036     68.38   34.02   34.36  1796.95     169.4\n",
      "14   北京   北京  门头沟区  市辖区      1451     25.12   12.80   12.32   157.86      31.1\n",
      "15   北京   北京   怀柔区  市辖区      2123     28.29   14.13   14.16   259.41      39.3\n",
      "16   北京   北京   平谷区  市辖区       950     40.20   20.22   19.98   218.31      43.7\n",
      "17   北京   北京   密云区  市辖区      2229     43.59   21.77   21.82   251.13      48.3\n",
      "18   北京   北京   延庆区  市辖区      1994     28.42   14.32   14.11   122.66      32.7\n"
     ]
    },
    {
     "data": {
      "image/png": "[encoded data removed]",
      "text/plain": [
       "<matplotlib.figure.Figure at 0x1e820ca65f8>"
      ]
     },
     "metadata": {},
     "output_type": "display_data"
    }
   ],
   "source": [
    "CSV_FILE_PATH2 ='./beijing.csv'\n",
    "\n",
    "df2 = pd.read_csv(CSV_FILE_PATH2,encoding='gbk')# 读取数据\n",
    "\n",
    "print(df.head(19))\n",
    "\n",
    "print(df2[df2.duplicated()])# 找出全部列的重复项\n",
    "\n",
    "dup=df2[df2.duplicated()].count()# 统计重复值\n",
    "print(dup)\n",
    "\n",
    "\n",
    "nodup=df2[-df2.duplicated()]# 去掉重复项\n",
    "print(nodup)\n",
    "\n",
    "\n",
    "\n",
    "\n",
    "df2.describe()# 统计\n",
    "df2[df2.isnull().values==True]\n",
    "plt.rcParams['font.sans-serif'] = ['SimHei'] #用来正常显示中文标签\n",
    "plt.rcParams['axes.unicode_minus'] = False #用来正常显示负号\n",
    "\n",
    "plt.figure() #建立图像\n",
    "p = df2.boxplot() #画箱线图，直接使用DataFrame的方法\n",
    "plt.show() #展示箱线图\n"
   ]
  },
  {
   "cell_type": "code",
   "execution_count": 5,
   "metadata": {},
   "outputs": [
    {
     "data": {
      "text/html": [
       "<div>\n",
       "<style>\n",
       "    .dataframe thead tr:only-child th {\n",
       "        text-align: right;\n",
       "    }\n",
       "\n",
       "    .dataframe thead th {\n",
       "        text-align: left;\n",
       "    }\n",
       "\n",
       "    .dataframe tbody tr th {\n",
       "        vertical-align: top;\n",
       "    }\n",
       "</style>\n",
       "<table border=\"1\" class=\"dataframe\">\n",
       "  <thead>\n",
       "    <tr style=\"text-align: right;\">\n",
       "      <th></th>\n",
       "      <th>省级单位</th>\n",
       "      <th>地级单位</th>\n",
       "      <th>县级单位</th>\n",
       "      <th>区划类型</th>\n",
       "      <th>行政面积（K㎡）</th>\n",
       "      <th>户籍人口（万人）</th>\n",
       "      <th>男性</th>\n",
       "      <th>女性</th>\n",
       "      <th>GDP（亿元）</th>\n",
       "      <th>常住人口（万人）</th>\n",
       "    </tr>\n",
       "  </thead>\n",
       "  <tbody>\n",
       "  </tbody>\n",
       "</table>\n",
       "</div>"
      ],
      "text/plain": [
       "Empty DataFrame\n",
       "Columns: [省级单位, 地级单位, 县级单位, 区划类型, 行政面积（K㎡）, 户籍人口（万人）, 男性, 女性, GDP（亿元）, 常住人口（万人）]\n",
       "Index: []"
      ]
     },
     "execution_count": 5,
     "metadata": {},
     "output_type": "execute_result"
    }
   ],
   "source": [
    "df1=pd.read_csv('./tianjing.csv',encoding='gbk')\n",
    "df2=pd.read_csv('./beijing.csv',encoding='gbk')\n",
    "pd.merge(df1,df2)\n"
   ]
  },
  {
   "cell_type": "code",
   "execution_count": null,
   "metadata": {
    "collapsed": true
   },
   "outputs": [],
   "source": []
  },
  {
   "cell_type": "code",
   "execution_count": null,
   "metadata": {
    "collapsed": true
   },
   "outputs": [],
   "source": []
  }
 ],
 "metadata": {
  "kernelspec": {
   "display_name": "Python 3",
   "language": "python",
   "name": "python3"
  },
  "language_info": {
   "codemirror_mode": {
    "name": "ipython",
    "version": 3
   },
   "file_extension": ".py",
   "mimetype": "text/x-python",
   "name": "python",
   "nbconvert_exporter": "python",
   "pygments_lexer": "ipython3",
   "version": "3.6.3"
  }
 },
 "nbformat": 4,
 "nbformat_minor": 2
}
