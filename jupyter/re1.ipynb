{
 "cells": [
  {
   "cell_type": "code",
   "execution_count": 8,
   "metadata": {},
   "outputs": [
    {
     "name": "stdout",
     "output_type": "stream",
     "text": [
      "['alvin']\n",
      "['alvin']\n",
      "['awwwn']\n",
      "['abcccc']\n",
      "['abccc']\n",
      "['abc']\n",
      "['abccc']\n",
      "['ab']\n",
      "['acd']\n",
      "['a', 'c', 'd']\n",
      "['4', '5', 'd', 'h', '3']\n"
     ]
    }
   ],
   "source": [
    "import re\n",
    "#  . 代表一个任意字符\n",
    "ret=re.findall('a..in','helloalvin')\n",
    "print(ret)#['alvin']\n",
    "#  ^ 代表从开头开始匹配 \n",
    "ret=re.findall('^a...n','alvinhelloawwwn')\n",
    "print(ret)#['alvin']\n",
    "#  $  代表从匹配结尾处的字符串\n",
    "ret=re.findall('a...n$','alvinhelloawwwn')\n",
    "print(ret)#['awwwn']\n",
    "#  * 代表匹配0-多个前一个字符，前一个字符当做标志，不参与实际匹配\n",
    "ret=re.findall('abc*','abcccc')#贪婪匹配[0,+oo]  \n",
    "print(ret)#['abcccc']\n",
    "#  + 匹配1-多个字符，和*类似\n",
    "ret=re.findall('abc+','abccc')#[1,+oo]\n",
    "print(ret)#['abccc']\n",
    "#  ? 匹配0或者1个字符 \n",
    "ret=re.findall('abc?','abccc')#[0,1]\n",
    "print(ret)#['abc']\n",
    "#  t{x,y}，代表匹配x<num<y个t,t{x}代表匹配x个t\n",
    "ret=re.findall('abc{1,4}','abccc')\n",
    "print(ret)#['abccc'] 贪婪匹配\n",
    "#上述匹配都是贪婪匹配，即匹配最长子串，如果想匹配最短子串，可以在后面加个？\n",
    "ret=re.findall('abc*?','abcccccc')\n",
    "print(ret)#['ab']\n",
    "#------------------------\n",
    "#字符集[]，选择字符集中的一个字符，\n",
    "ret=re.findall('a[bc]d','acd')\n",
    "print(ret)#['acd']\n",
    "#  -  代表范围\n",
    "ret=re.findall('[a-z]','acd')\n",
    "print(ret)#['a', 'c', 'd']\n",
    "#^代表不选择字符集中的字符，\n",
    "ret=re.findall('[^ab]','45bdha3')\n",
    "print(ret)#['4', '5', 'd', 'h', '3']\n",
    "#---------------------\n"
   ]
  },
  {
   "cell_type": "code",
   "execution_count": 9,
   "metadata": {},
   "outputs": [
    {
     "data": {
      "text/plain": [
       "['u',\n",
       " 'e',\n",
       " 'a',\n",
       " 'i',\n",
       " 'a',\n",
       " 'i',\n",
       " 'i',\n",
       " 'i',\n",
       " 'e',\n",
       " 'i',\n",
       " 'a',\n",
       " 'i',\n",
       " 'o',\n",
       " 'i',\n",
       " 'o',\n",
       " 'u']"
      ]
     },
     "execution_count": 9,
     "metadata": {},
     "output_type": "execute_result"
    }
   ],
   "source": [
    "word = 'supercalifragilisticepialidocious'\n",
    "re.findall(r'[aeiou]', word)"
   ]
  },
  {
   "cell_type": "code",
   "execution_count": 10,
   "metadata": {},
   "outputs": [
    {
     "data": {
      "text/plain": [
       "16"
      ]
     },
     "execution_count": 10,
     "metadata": {},
     "output_type": "execute_result"
    }
   ],
   "source": [
    "len(re.findall(r'[aeiou]', word))"
   ]
  },
  {
   "cell_type": "code",
   "execution_count": 16,
   "metadata": {},
   "outputs": [
    {
     "data": {
      "text/plain": [
       "dict_items([('ea', 476), ('oi', 65), ('ou', 329), ('io', 549), ('ee', 217), ('ie', 331), ('ui', 95), ('ua', 109), ('ai', 261), ('ue', 105), ('ia', 253), ('ei', 86), ('iai', 1), ('oo', 174), ('au', 106), ('eau', 10), ('oa', 59), ('oei', 1), ('oe', 15), ('eo', 39), ('uu', 1), ('eu', 18), ('iu', 14), ('aii', 1), ('aiia', 1), ('ae', 11), ('aa', 3), ('oui', 6), ('ieu', 3), ('ao', 6), ('iou', 27), ('uee', 4), ('eou', 5), ('aia', 1), ('uie', 3), ('iao', 1), ('eei', 2), ('uo', 8), ('uou', 5), ('eea', 1), ('ueui', 1), ('ioa', 1), ('ooi', 1)])"
      ]
     },
     "execution_count": 16,
     "metadata": {},
     "output_type": "execute_result"
    }
   ],
   "source": [
    "import nltk\n",
    "wsj = sorted(set(nltk.corpus.treebank.words()))\n",
    "fd = nltk.FreqDist(vs for word in wsj\n",
    "                  for vs in re.findall(r'[aeiou]{2,}', word))\n",
    "fd.items()"
   ]
  },
  {
   "cell_type": "code",
   "execution_count": null,
   "metadata": {
    "collapsed": true
   },
   "outputs": [],
   "source": []
  }
 ],
 "metadata": {
  "kernelspec": {
   "display_name": "Python 3",
   "language": "python",
   "name": "python3"
  },
  "language_info": {
   "codemirror_mode": {
    "name": "ipython",
    "version": 3
   },
   "file_extension": ".py",
   "mimetype": "text/x-python",
   "name": "python",
   "nbconvert_exporter": "python",
   "pygments_lexer": "ipython3",
   "version": "3.6.3"
  }
 },
 "nbformat": 4,
 "nbformat_minor": 2
}
