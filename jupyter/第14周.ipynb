{
 "cells": [
  {
   "cell_type": "markdown",
   "metadata": {},
   "source": [
    "# 第7章 时间序列数据分析"
   ]
  },
  {
   "cell_type": "markdown",
   "metadata": {},
   "source": [
    "## 7.1 时间序列基础"
   ]
  },
  {
   "cell_type": "markdown",
   "metadata": {},
   "source": [
    "### 7.1.1 创建时间序列数据"
   ]
  },
  {
   "cell_type": "code",
   "execution_count": 1,
   "metadata": {},
   "outputs": [
    {
     "data": {
      "text/plain": [
       "Timestamp('2018-08-28 00:00:00')"
      ]
     },
     "execution_count": 1,
     "metadata": {},
     "output_type": "execute_result"
    }
   ],
   "source": [
    "import pandas as pd\n",
    "from datetime import datetime\n",
    "import numpy as np\n",
    "pd.to_datetime('20180828')   # 将datetime转换为Timestamp对象"
   ]
  },
  {
   "cell_type": "code",
   "execution_count": 2,
   "metadata": {},
   "outputs": [
    {
     "data": {
      "text/plain": [
       "DatetimeIndex(['2018-08-20', '2018-08-28', '2018-09-08'], dtype='datetime64[ns]', freq=None)"
      ]
     },
     "execution_count": 2,
     "metadata": {},
     "output_type": "execute_result"
    }
   ],
   "source": [
    "# 传入多个datetime字符串\n",
    "date_index = pd.to_datetime(['20180820', '20180828', '20180908'])\n",
    "date_index"
   ]
  },
  {
   "cell_type": "code",
   "execution_count": 3,
   "metadata": {},
   "outputs": [
    {
     "data": {
      "text/plain": [
       "Timestamp('2018-08-20 00:00:00')"
      ]
     },
     "execution_count": 3,
     "metadata": {},
     "output_type": "execute_result"
    }
   ],
   "source": [
    "date_index[0]   # 取出第一个时间戳"
   ]
  },
  {
   "cell_type": "code",
   "execution_count": 6,
   "metadata": {},
   "outputs": [
    {
     "data": {
      "text/plain": [
       "2018-08-20    11\n",
       "2018-08-28    22\n",
       "dtype: int64"
      ]
     },
     "execution_count": 6,
     "metadata": {},
     "output_type": "execute_result"
    }
   ],
   "source": [
    "# 创建时间序列类型的Series对象\n",
    "date_ser = pd.Series([11, 22, 33], index=date_index)\n",
    "date_ser\n",
    "\n",
    "date_ser['2018-08']"
   ]
  },
  {
   "cell_type": "code",
   "execution_count": 7,
   "metadata": {},
   "outputs": [
    {
     "data": {
      "text/plain": [
       "2018-01-01    0\n",
       "2018-01-15    1\n",
       "2018-02-20    2\n",
       "2018-04-01    3\n",
       "2018-05-05    4\n",
       "2018-06-01    5\n",
       "dtype: int32"
      ]
     },
     "execution_count": 7,
     "metadata": {},
     "output_type": "execute_result"
    }
   ],
   "source": [
    "# 指定索引为多个datetime的列表\n",
    "date_list = [datetime(2018, 1, 1), datetime(2018, 1, 15),\n",
    "             datetime(2018, 2, 20), datetime(2018, 4, 1),\n",
    "             datetime(2018, 5, 5), datetime(2018, 6, 1)]\n",
    "time_se = pd.Series(np.arange(6), index=date_list)\n",
    "time_se"
   ]
  },
  {
   "cell_type": "code",
   "execution_count": 9,
   "metadata": {},
   "outputs": [
    {
     "data": {
      "text/html": [
       "<div>\n",
       "<style scoped>\n",
       "    .dataframe tbody tr th:only-of-type {\n",
       "        vertical-align: middle;\n",
       "    }\n",
       "\n",
       "    .dataframe tbody tr th {\n",
       "        vertical-align: top;\n",
       "    }\n",
       "\n",
       "    .dataframe thead th {\n",
       "        text-align: right;\n",
       "    }\n",
       "</style>\n",
       "<table border=\"1\" class=\"dataframe\">\n",
       "  <thead>\n",
       "    <tr style=\"text-align: right;\">\n",
       "      <th></th>\n",
       "      <th>0</th>\n",
       "      <th>1</th>\n",
       "      <th>2</th>\n",
       "    </tr>\n",
       "  </thead>\n",
       "  <tbody>\n",
       "    <tr>\n",
       "      <th>2018-01-23</th>\n",
       "      <td>11</td>\n",
       "      <td>22</td>\n",
       "      <td>33</td>\n",
       "    </tr>\n",
       "    <tr>\n",
       "      <th>2018-02-15</th>\n",
       "      <td>44</td>\n",
       "      <td>55</td>\n",
       "      <td>66</td>\n",
       "    </tr>\n",
       "    <tr>\n",
       "      <th>2018-05-22</th>\n",
       "      <td>77</td>\n",
       "      <td>88</td>\n",
       "      <td>99</td>\n",
       "    </tr>\n",
       "    <tr>\n",
       "      <th>2018-03-30</th>\n",
       "      <td>12</td>\n",
       "      <td>23</td>\n",
       "      <td>34</td>\n",
       "    </tr>\n",
       "  </tbody>\n",
       "</table>\n",
       "</div>"
      ],
      "text/plain": [
       "             0   1   2\n",
       "2018-01-23  11  22  33\n",
       "2018-02-15  44  55  66\n",
       "2018-05-22  77  88  99\n",
       "2018-03-30  12  23  34"
      ]
     },
     "execution_count": 9,
     "metadata": {},
     "output_type": "execute_result"
    }
   ],
   "source": [
    "data_demo = [[11, 22, 33], [44, 55, 66], \n",
    "             [77, 88, 99], [12, 23, 34]]\n",
    "date_list = [datetime(2018, 1, 23), datetime(2018, 2, 15),\n",
    "             datetime(2018, 5, 22), datetime(2018, 3, 30)]\n",
    "time_df = pd.DataFrame(data_demo, index=date_list)\n",
    "time_df['2018']"
   ]
  },
  {
   "cell_type": "markdown",
   "metadata": {},
   "source": [
    "### 7.1.2 通过时间戳索引选取子集"
   ]
  },
  {
   "cell_type": "code",
   "execution_count": 10,
   "metadata": {
    "scrolled": true
   },
   "outputs": [
    {
     "data": {
      "text/plain": [
       "2015-05-30    0\n",
       "2017-02-01    1\n",
       "2015-06-01    2\n",
       "2016-04-01    3\n",
       "2017-06-01    4\n",
       "2018-01-23    5\n",
       "dtype: int32"
      ]
     },
     "execution_count": 10,
     "metadata": {},
     "output_type": "execute_result"
    }
   ],
   "source": [
    "# 指定索引为多个日期字符串的列表\n",
    "date_list = ['2015/05/30', '2017/02/01',\n",
    "             '2015.6.1', '2016.4.1',\n",
    "             '2017.6.1', '2018.1.23']\n",
    "# 将日期字符串转换为DatetimeIndex \n",
    "date_index = pd.to_datetime(date_list)\n",
    "# 创建以DatetimeIndex 为索引的Series对象\n",
    "date_se = pd.Series(np.arange(6), index=date_index)\n",
    "date_se"
   ]
  },
  {
   "cell_type": "code",
   "execution_count": 11,
   "metadata": {},
   "outputs": [
    {
     "data": {
      "text/plain": [
       "3"
      ]
     },
     "execution_count": 11,
     "metadata": {},
     "output_type": "execute_result"
    }
   ],
   "source": [
    "# 根据位置索引获取数据\n",
    "time_se[3]"
   ]
  },
  {
   "cell_type": "code",
   "execution_count": 12,
   "metadata": {},
   "outputs": [
    {
     "data": {
      "text/plain": [
       "2"
      ]
     },
     "execution_count": 12,
     "metadata": {},
     "output_type": "execute_result"
    }
   ],
   "source": [
    "date_time = datetime(2015, 6, 1)\n",
    "date_se[date_time]"
   ]
  },
  {
   "cell_type": "code",
   "execution_count": 13,
   "metadata": {},
   "outputs": [
    {
     "data": {
      "text/plain": [
       "2015-05-30    0\n",
       "dtype: int32"
      ]
     },
     "execution_count": 13,
     "metadata": {},
     "output_type": "execute_result"
    }
   ],
   "source": [
    "date_se['20150530']"
   ]
  },
  {
   "cell_type": "code",
   "execution_count": 14,
   "metadata": {},
   "outputs": [
    {
     "data": {
      "text/plain": [
       "2016-04-01    3\n",
       "dtype: int32"
      ]
     },
     "execution_count": 14,
     "metadata": {},
     "output_type": "execute_result"
    }
   ],
   "source": [
    "date_se['2016-04-01']"
   ]
  },
  {
   "cell_type": "code",
   "execution_count": 15,
   "metadata": {},
   "outputs": [
    {
     "data": {
      "text/plain": [
       "2018-01-23    5\n",
       "dtype: int32"
      ]
     },
     "execution_count": 15,
     "metadata": {},
     "output_type": "execute_result"
    }
   ],
   "source": [
    "date_se['2018/01/23']"
   ]
  },
  {
   "cell_type": "code",
   "execution_count": 16,
   "metadata": {
    "scrolled": true
   },
   "outputs": [
    {
     "data": {
      "text/plain": [
       "2017-06-01    4\n",
       "dtype: int32"
      ]
     },
     "execution_count": 16,
     "metadata": {},
     "output_type": "execute_result"
    }
   ],
   "source": [
    "date_se['6/1/2017']"
   ]
  },
  {
   "cell_type": "code",
   "execution_count": 17,
   "metadata": {},
   "outputs": [
    {
     "data": {
      "text/plain": [
       "2015-05-30    0\n",
       "2015-06-01    2\n",
       "dtype: int32"
      ]
     },
     "execution_count": 17,
     "metadata": {},
     "output_type": "execute_result"
    }
   ],
   "source": [
    "date_se['2015']  # 获取2015年的数据"
   ]
  },
  {
   "cell_type": "code",
   "execution_count": 18,
   "metadata": {},
   "outputs": [
    {
     "data": {
      "text/plain": [
       "2016-04-01    3\n",
       "2017-02-01    1\n",
       "2017-06-01    4\n",
       "2018-01-23    5\n",
       "dtype: int32"
      ]
     },
     "execution_count": 18,
     "metadata": {},
     "output_type": "execute_result"
    }
   ],
   "source": [
    "# 扔掉2016-1-1之前的数据\n",
    "sorted_se = date_se.sort_index()\n",
    "tt = sorted_se.truncate(before='2016-1-1')\n",
    "tt"
   ]
  },
  {
   "cell_type": "code",
   "execution_count": 50,
   "metadata": {},
   "outputs": [
    {
     "data": {
      "text/plain": [
       "2015-05-30    0\n",
       "2015-06-01    2\n",
       "2016-04-01    3\n",
       "dtype: int32"
      ]
     },
     "execution_count": 50,
     "metadata": {},
     "output_type": "execute_result"
    }
   ],
   "source": [
    "# 扔掉2016-7-31之后的数据\n",
    "sorted_se.truncate(after='2016-7-31')"
   ]
  },
  {
   "cell_type": "markdown",
   "metadata": {},
   "source": [
    "## 7.2 固定频率的时间序列"
   ]
  },
  {
   "cell_type": "markdown",
   "metadata": {},
   "source": [
    "### 7.2.1 创建固定频率的时间序列"
   ]
  },
  {
   "cell_type": "code",
   "execution_count": 19,
   "metadata": {},
   "outputs": [
    {
     "data": {
      "text/plain": [
       "DatetimeIndex(['2018-08-10', '2018-08-11', '2018-08-12', '2018-08-13',\n",
       "               '2018-08-14', '2018-08-15', '2018-08-16', '2018-08-17',\n",
       "               '2018-08-18', '2018-08-19', '2018-08-20'],\n",
       "              dtype='datetime64[ns]', freq='D')"
      ]
     },
     "execution_count": 19,
     "metadata": {},
     "output_type": "execute_result"
    }
   ],
   "source": [
    "# 创建DatetimeIndex对象时，只传入开始日期与结束日期\n",
    "pd.date_range('2018/08/10', '2018/08/20')"
   ]
  },
  {
   "cell_type": "code",
   "execution_count": 20,
   "metadata": {},
   "outputs": [
    {
     "data": {
      "text/plain": [
       "DatetimeIndex(['2018-08-10', '2018-08-11', '2018-08-12', '2018-08-13',\n",
       "               '2018-08-14'],\n",
       "              dtype='datetime64[ns]', freq='D')"
      ]
     },
     "execution_count": 20,
     "metadata": {},
     "output_type": "execute_result"
    }
   ],
   "source": [
    "# 创建DatetimeIndex对象时，传入start与periods参数\n",
    "pd.date_range(start='2018/08/10', periods=5)"
   ]
  },
  {
   "cell_type": "code",
   "execution_count": 21,
   "metadata": {},
   "outputs": [
    {
     "data": {
      "text/plain": [
       "DatetimeIndex(['2018-08-06', '2018-08-07', '2018-08-08', '2018-08-09',\n",
       "               '2018-08-10'],\n",
       "              dtype='datetime64[ns]', freq='D')"
      ]
     },
     "execution_count": 21,
     "metadata": {},
     "output_type": "execute_result"
    }
   ],
   "source": [
    "# 创建DatetimeIndex对象时，传入end与periods参数\n",
    "pd.date_range(end='2018/08/10', periods=5)"
   ]
  },
  {
   "cell_type": "code",
   "execution_count": 22,
   "metadata": {},
   "outputs": [
    {
     "data": {
      "text/plain": [
       "DatetimeIndex(['2018-01-07', '2018-01-14', '2018-01-21', '2018-01-28',\n",
       "               '2018-02-04'],\n",
       "              dtype='datetime64[ns]', freq='W-SUN')"
      ]
     },
     "execution_count": 22,
     "metadata": {},
     "output_type": "execute_result"
    }
   ],
   "source": [
    "dates_index = pd.date_range('2018-01-01',         # 起始日期\n",
    "                            periods=5,            # 周期\n",
    "                            freq='W-SUN')         # 频率\n",
    "dates_index"
   ]
  },
  {
   "cell_type": "code",
   "execution_count": 23,
   "metadata": {},
   "outputs": [
    {
     "data": {
      "text/plain": [
       "2018-01-07    12\n",
       "2018-01-14    56\n",
       "2018-01-21    89\n",
       "2018-01-28    99\n",
       "2018-02-04    31\n",
       "Freq: W-SUN, dtype: int64"
      ]
     },
     "execution_count": 23,
     "metadata": {},
     "output_type": "execute_result"
    }
   ],
   "source": [
    "ser_data = [12, 56, 89, 99, 31]\n",
    "pd.Series(ser_data, dates_index)"
   ]
  },
  {
   "cell_type": "code",
   "execution_count": 24,
   "metadata": {},
   "outputs": [
    {
     "data": {
      "text/plain": [
       "DatetimeIndex(['2018-08-01 12:13:30+08:00', '2018-08-02 12:13:30+08:00',\n",
       "               '2018-08-03 12:13:30+08:00', '2018-08-04 12:13:30+08:00',\n",
       "               '2018-08-05 12:13:30+08:00'],\n",
       "              dtype='datetime64[ns, Asia/Hong_Kong]', freq='D')"
      ]
     },
     "execution_count": 24,
     "metadata": {},
     "output_type": "execute_result"
    }
   ],
   "source": [
    "# 创建DatetimeIndex，并指定开始日期、产生日期个数、默认的频率，以及时区\n",
    "pd.date_range(start='2018/8/1 12:13:30', periods=5, \n",
    "              tz='Asia/Hong_Kong')"
   ]
  },
  {
   "cell_type": "code",
   "execution_count": 25,
   "metadata": {},
   "outputs": [
    {
     "data": {
      "text/plain": [
       "DatetimeIndex(['2018-08-01 00:00:00+08:00', '2018-08-02 00:00:00+08:00',\n",
       "               '2018-08-03 00:00:00+08:00', '2018-08-04 00:00:00+08:00',\n",
       "               '2018-08-05 00:00:00+08:00'],\n",
       "              dtype='datetime64[ns, Asia/Hong_Kong]', freq='D')"
      ]
     },
     "execution_count": 25,
     "metadata": {},
     "output_type": "execute_result"
    }
   ],
   "source": [
    "#规范化时间戳\n",
    "pd.date_range(start='2018/8/1 12:13:30', periods=5, \n",
    "              normalize=True, tz='Asia/Hong_Kong')"
   ]
  },
  {
   "cell_type": "markdown",
   "metadata": {},
   "source": [
    "### 7.2.2 时间序列的频率、偏移量"
   ]
  },
  {
   "cell_type": "code",
   "execution_count": 26,
   "metadata": {},
   "outputs": [
    {
     "data": {
      "text/plain": [
       "DatetimeIndex(['2018-02-01', '2018-02-06', '2018-02-11', '2018-02-16',\n",
       "               '2018-02-21', '2018-02-26'],\n",
       "              dtype='datetime64[ns]', freq='5D')"
      ]
     },
     "execution_count": 26,
     "metadata": {},
     "output_type": "execute_result"
    }
   ],
   "source": [
    "pd.date_range(start='2018/2/1', end='2018/2/28', freq='5D')"
   ]
  },
  {
   "cell_type": "code",
   "execution_count": 31,
   "metadata": {},
   "outputs": [
    {
     "name": "stdout",
     "output_type": "stream",
     "text": [
      "2019-10-01 00:00:00\n",
      "2020-02-06 00:00:00\n"
     ]
    }
   ],
   "source": [
    "from pandas.tseries.offsets import *\n",
    "dayOff = DateOffset(months=4, days=5)\n",
    "t = pd.datetime(2019,10,1)\n",
    "print(t)\n",
    "print(t + dayOff)"
   ]
  },
  {
   "cell_type": "code",
   "execution_count": 32,
   "metadata": {},
   "outputs": [
    {
     "data": {
      "text/plain": [
       "Timedelta('14 days 00:10:05')"
      ]
     },
     "execution_count": 32,
     "metadata": {},
     "output_type": "execute_result"
    }
   ],
   "source": [
    "Week(2) + Minute(10)+Second(5)"
   ]
  },
  {
   "cell_type": "code",
   "execution_count": 33,
   "metadata": {},
   "outputs": [
    {
     "data": {
      "text/plain": [
       "DatetimeIndex(['2018-03-01 00:00:00', '2018-03-15 10:00:00',\n",
       "               '2018-03-29 20:00:00', '2018-04-13 06:00:00',\n",
       "               '2018-04-27 16:00:00', '2018-05-12 02:00:00',\n",
       "               '2018-05-26 12:00:00', '2018-06-09 22:00:00',\n",
       "               '2018-06-24 08:00:00', '2018-07-08 18:00:00',\n",
       "               '2018-07-23 04:00:00', '2018-08-06 14:00:00',\n",
       "               '2018-08-21 00:00:00', '2018-09-04 10:00:00',\n",
       "               '2018-09-18 20:00:00', '2018-10-03 06:00:00',\n",
       "               '2018-10-17 16:00:00', '2018-11-01 02:00:00',\n",
       "               '2018-11-15 12:00:00', '2018-11-29 22:00:00',\n",
       "               '2018-12-14 08:00:00', '2018-12-28 18:00:00'],\n",
       "              dtype='datetime64[ns]', freq='346H')"
      ]
     },
     "execution_count": 33,
     "metadata": {},
     "output_type": "execute_result"
    }
   ],
   "source": [
    "# 生成日期偏移量\n",
    "date_offset  = Week(2) + Hour(10)\n",
    "pd.date_range('2018/3/1', '2018/12/31', freq=date_offset)"
   ]
  },
  {
   "cell_type": "markdown",
   "metadata": {},
   "source": [
    "### 7.2.3 时间序列数据的移动"
   ]
  },
  {
   "cell_type": "code",
   "execution_count": 34,
   "metadata": {},
   "outputs": [
    {
     "data": {
      "text/plain": [
       "2018-01-01    1\n",
       "2018-01-02    2\n",
       "2018-01-03    3\n",
       "2018-01-04    4\n",
       "2018-01-05    5\n",
       "Freq: D, dtype: int32"
      ]
     },
     "execution_count": 34,
     "metadata": {},
     "output_type": "execute_result"
    }
   ],
   "source": [
    "date_index = pd.date_range('2018/01/01', periods=5)\n",
    "time_ser = pd.Series(np.arange(5) + 1, index=date_index)\n",
    "time_ser"
   ]
  },
  {
   "cell_type": "code",
   "execution_count": 38,
   "metadata": {},
   "outputs": [
    {
     "data": {
      "text/plain": [
       "2018-01-01    NaN\n",
       "2018-01-02    NaN\n",
       "2018-01-03    NaN\n",
       "2018-01-04    NaN\n",
       "2018-01-05    1.0\n",
       "Freq: D, dtype: float64"
      ]
     },
     "execution_count": 38,
     "metadata": {},
     "output_type": "execute_result"
    }
   ],
   "source": [
    "# 向后移动一次\n",
    "time_ser.shift(4)"
   ]
  },
  {
   "cell_type": "code",
   "execution_count": 36,
   "metadata": {},
   "outputs": [
    {
     "data": {
      "text/plain": [
       "2018-01-01    2.0\n",
       "2018-01-02    3.0\n",
       "2018-01-03    4.0\n",
       "2018-01-04    5.0\n",
       "2018-01-05    NaN\n",
       "Freq: D, dtype: float64"
      ]
     },
     "execution_count": 36,
     "metadata": {},
     "output_type": "execute_result"
    }
   ],
   "source": [
    "# 向前移动一次\n",
    "time_ser.shift(-1)"
   ]
  },
  {
   "cell_type": "markdown",
   "metadata": {},
   "source": [
    "## 7.3 时间周期及计算"
   ]
  },
  {
   "cell_type": "markdown",
   "metadata": {},
   "source": [
    "### 7.3.1 创建时期对象"
   ]
  },
  {
   "cell_type": "code",
   "execution_count": 43,
   "metadata": {},
   "outputs": [
    {
     "data": {
      "text/plain": [
       "Period('2018', 'A-DEC')"
      ]
     },
     "execution_count": 43,
     "metadata": {},
     "output_type": "execute_result"
    }
   ],
   "source": [
    "# 创建Period对象，表示从2018-01-01到2018-12-31之间的时间段\n",
    "pd.Period(2018) "
   ]
  },
  {
   "cell_type": "code",
   "execution_count": 44,
   "metadata": {},
   "outputs": [
    {
     "data": {
      "text/plain": [
       "Period('2017-06', 'M')"
      ]
     },
     "execution_count": 44,
     "metadata": {},
     "output_type": "execute_result"
    }
   ],
   "source": [
    "# 表示从2017-06-01到2017-06-30之间的整月时间\n",
    "period = pd.Period('2017/6')\n",
    "period"
   ]
  },
  {
   "cell_type": "code",
   "execution_count": 45,
   "metadata": {},
   "outputs": [
    {
     "data": {
      "text/plain": [
       "Period('2017-07', 'M')"
      ]
     },
     "execution_count": 45,
     "metadata": {},
     "output_type": "execute_result"
    }
   ],
   "source": [
    "period + 1   # Period对象加上一个整数"
   ]
  },
  {
   "cell_type": "code",
   "execution_count": 46,
   "metadata": {},
   "outputs": [
    {
     "data": {
      "text/plain": [
       "Period('2017-01', 'M')"
      ]
     },
     "execution_count": 46,
     "metadata": {},
     "output_type": "execute_result"
    }
   ],
   "source": [
    "period - 5    # Period对象减去一个整数"
   ]
  },
  {
   "cell_type": "code",
   "execution_count": 49,
   "metadata": {},
   "outputs": [
    {
     "name": "stdout",
     "output_type": "stream",
     "text": [
      "<65 * MonthEnds>\n"
     ]
    }
   ],
   "source": [
    "# 创建一个与period频率相同的时期\n",
    "other_period = pd.Period(201201, freq='M' )\n",
    "#print(other_period)\n",
    "#print(period - other_period)\n",
    "print((period - other_period))\n",
    "#dir(MonthEnd)"
   ]
  },
  {
   "cell_type": "code",
   "execution_count": 50,
   "metadata": {},
   "outputs": [
    {
     "name": "stdout",
     "output_type": "stream",
     "text": [
      "[Period('2012-01', 'M') Period('2012-02', 'M') Period('2012-03', 'M')\n",
      " Period('2012-04', 'M') Period('2012-05', 'M')]\n"
     ]
    }
   ],
   "source": [
    "period_index = pd.period_range('2012.1.8', '2012.5.31', freq='M')\n",
    "print(period_index.values)"
   ]
  },
  {
   "cell_type": "code",
   "execution_count": 51,
   "metadata": {},
   "outputs": [
    {
     "data": {
      "text/plain": [
       "PeriodIndex(['2010', '2011', '2012'], dtype='period[A-DEC]', freq='A-DEC')"
      ]
     },
     "execution_count": 51,
     "metadata": {},
     "output_type": "execute_result"
    }
   ],
   "source": [
    "str_list = ['2010', '2011', '2012']\n",
    "pd.PeriodIndex(str_list, freq='A-DEC')"
   ]
  },
  {
   "cell_type": "code",
   "execution_count": 52,
   "metadata": {},
   "outputs": [
    {
     "data": {
      "text/plain": [
       "2012-01    0\n",
       "2012-02    1\n",
       "2012-03    2\n",
       "2012-04    3\n",
       "2012-05    4\n",
       "Freq: M, dtype: int32"
      ]
     },
     "execution_count": 52,
     "metadata": {},
     "output_type": "execute_result"
    }
   ],
   "source": [
    "period_ser = pd.Series(np.arange(5), period_index)\n",
    "period_ser"
   ]
  },
  {
   "cell_type": "markdown",
   "metadata": {},
   "source": [
    "### 7.3.2 时期的频率转换"
   ]
  },
  {
   "cell_type": "code",
   "execution_count": 40,
   "metadata": {},
   "outputs": [
    {
     "data": {
      "text/plain": [
       "Period('2017-01', 'M')"
      ]
     },
     "execution_count": 40,
     "metadata": {},
     "output_type": "execute_result"
    }
   ],
   "source": [
    "# 创建时期对象\n",
    "period = pd.Period('2017', freq='A-DEC')\n",
    "period.asfreq('M', how='start')"
   ]
  },
  {
   "cell_type": "code",
   "execution_count": 41,
   "metadata": {},
   "outputs": [
    {
     "data": {
      "text/plain": [
       "Period('2017-12', 'M')"
      ]
     },
     "execution_count": 41,
     "metadata": {},
     "output_type": "execute_result"
    }
   ],
   "source": [
    "period.asfreq('M', how='end')"
   ]
  },
  {
   "cell_type": "code",
   "execution_count": null,
   "metadata": {
    "collapsed": true
   },
   "outputs": [],
   "source": []
  }
 ],
 "metadata": {
  "kernelspec": {
   "display_name": "Python 3",
   "language": "python",
   "name": "python3"
  },
  "language_info": {
   "codemirror_mode": {
    "name": "ipython",
    "version": 3
   },
   "file_extension": ".py",
   "mimetype": "text/x-python",
   "name": "python",
   "nbconvert_exporter": "python",
   "pygments_lexer": "ipython3",
   "version": "3.6.3"
  }
 },
 "nbformat": 4,
 "nbformat_minor": 2
}
