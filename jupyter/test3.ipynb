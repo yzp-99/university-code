{
 "cells": [
  {
   "cell_type": "code",
   "execution_count": 2,
   "metadata": {},
   "outputs": [
    {
     "name": "stdout",
     "output_type": "stream",
     "text": [
      "colourless\n"
     ]
    }
   ],
   "source": [
    "# 第一题\n",
    "s='colorless'\n",
    "s=s[:s.index('r')]+'u'+s[s.index('r'):]\n",
    "print(s)"
   ]
  },
  {
   "cell_type": "code",
   "execution_count": 9,
   "metadata": {},
   "outputs": [
    {
     "data": {
      "text/plain": [
       "'dishes'"
      ]
     },
     "execution_count": 9,
     "metadata": {},
     "output_type": "execute_result"
    }
   ],
   "source": [
    "# 第二题\n",
    "a='dish-es'\n",
    "a[0:a.find('-')]+a[a.find('-')+1:]"
   ]
  },
  {
   "cell_type": "code",
   "execution_count": 10,
   "metadata": {},
   "outputs": [
    {
     "data": {
      "text/plain": [
       "'running'"
      ]
     },
     "execution_count": 10,
     "metadata": {},
     "output_type": "execute_result"
    }
   ],
   "source": [
    "b='run-ning'\n",
    "b[0:b.find('-')]+b[b.find('-')+1:]"
   ]
  },
  {
   "cell_type": "code",
   "execution_count": 11,
   "metadata": {},
   "outputs": [
    {
     "data": {
      "text/plain": [
       "'nationality'"
      ]
     },
     "execution_count": 11,
     "metadata": {},
     "output_type": "execute_result"
    }
   ],
   "source": [
    "c='nation-ality'\n",
    "c[0:c.find('-')]+c[c.find('-')+1:]"
   ]
  },
  {
   "cell_type": "code",
   "execution_count": 14,
   "metadata": {},
   "outputs": [
    {
     "data": {
      "text/plain": [
       "'undo'"
      ]
     },
     "execution_count": 14,
     "metadata": {},
     "output_type": "execute_result"
    }
   ],
   "source": [
    "d='un-do'\n",
    "d[0:d.find('-')]+d[d.find('-')+1:]"
   ]
  },
  {
   "cell_type": "code",
   "execution_count": 15,
   "metadata": {},
   "outputs": [
    {
     "data": {
      "text/plain": [
       "'preheat'"
      ]
     },
     "execution_count": 15,
     "metadata": {},
     "output_type": "execute_result"
    }
   ],
   "source": [
    "e='pre-heat'\n",
    "e[0:e.find('-')]+e[e.find('-')+1:]"
   ]
  },
  {
   "cell_type": "code",
   "execution_count": 12,
   "metadata": {},
   "outputs": [
    {
     "ename": "SyntaxError",
     "evalue": "invalid syntax (<ipython-input-12-6f9f9cf8cdcf>, line 3)",
     "output_type": "error",
     "traceback": [
      "\u001b[1;36m  File \u001b[1;32m\"<ipython-input-12-6f9f9cf8cdcf>\"\u001b[1;36m, line \u001b[1;32m3\u001b[0m\n\u001b[1;33m    monty=[6:11:2]\u001b[0m\n\u001b[1;37m            ^\u001b[0m\n\u001b[1;31mSyntaxError\u001b[0m\u001b[1;31m:\u001b[0m invalid syntax\n"
     ]
    }
   ],
   "source": [
    "# 第四题\n",
    "monty='01234567891011121314151617'\n",
    "monty=[6:11:2]\n",
    "monty=[10:5:-2]\n",
    "print(\"monty\")"
   ]
  },
  {
   "cell_type": "code",
   "execution_count": 40,
   "metadata": {},
   "outputs": [
    {
     "name": "stdout",
     "output_type": "stream",
     "text": [
      "123{asd}456\n",
      "123{asd}456{asd}\n",
      "123asd456asd\n",
      "{Aadsds}123asd456asd\n",
      "{paat}\n",
      "{paat}\n",
      "padst\n",
      "padsst\n",
      "{2312.12345}dsa\n"
     ]
    }
   ],
   "source": [
    "# 第六题\n",
    "import re\n",
    "import nltk\n",
    "p=r'[a-zA-Z]+'\n",
    "nltk.re_show(p,'123asd456')\n",
    "nltk.re_show(p,'123asd456asd')\n",
    "p='[A-Z][a-z]*'\n",
    "nltk.re_show(p,'123asd456asd')\n",
    "nltk.re_show(p,'Aadsds123asd456asd')\n",
    "p='p[aeiou]{,2}t'\n",
    "nltk.re_show(p,'paat')\n",
    "nltk.re_show(p,'paat')\n",
    "nltk.re_show(p,'padst')\n",
    "nltk.re_show(p,'padsst')\n",
    "p='\\d+(\\.\\d+)?'\n",
    "nltk.re_show(p,'2312.12345dsa')\n"
   ]
  },
  {
   "cell_type": "code",
   "execution_count": 42,
   "metadata": {
    "collapsed": true
   },
   "outputs": [],
   "source": [
    "# 第七题\n",
    "p=r'a|an|the'"
   ]
  },
  {
   "cell_type": "code",
   "execution_count": 43,
   "metadata": {},
   "outputs": [
    {
     "data": {
      "text/plain": [
       "<_sre.SRE_Match object; span=(0, 1), match='a'>"
      ]
     },
     "execution_count": 43,
     "metadata": {},
     "output_type": "execute_result"
    }
   ],
   "source": [
    "re.match(p,'asd')"
   ]
  },
  {
   "cell_type": "code",
   "execution_count": 44,
   "metadata": {},
   "outputs": [
    {
     "data": {
      "text/plain": [
       "<_sre.SRE_Match object; span=(0, 1), match='a'>"
      ]
     },
     "execution_count": 44,
     "metadata": {},
     "output_type": "execute_result"
    }
   ],
   "source": [
    "re.match(p,'a sd')"
   ]
  },
  {
   "cell_type": "code",
   "execution_count": 45,
   "metadata": {},
   "outputs": [
    {
     "data": {
      "text/plain": [
       "<_sre.SRE_Match object; span=(0, 1), match='a'>"
      ]
     },
     "execution_count": 45,
     "metadata": {},
     "output_type": "execute_result"
    }
   ],
   "source": [
    "re.match(p,'an sd')"
   ]
  },
  {
   "cell_type": "code",
   "execution_count": 46,
   "metadata": {
    "collapsed": true
   },
   "outputs": [],
   "source": [
    "p=r'\\d([+*]\\d)*'"
   ]
  },
  {
   "cell_type": "code",
   "execution_count": 52,
   "metadata": {},
   "outputs": [
    {
     "data": {
      "text/plain": [
       "<_sre.SRE_Match object; span=(0, 1), match='2'>"
      ]
     },
     "execution_count": 52,
     "metadata": {},
     "output_type": "execute_result"
    }
   ],
   "source": [
    "re.match(p,'2')"
   ]
  },
  {
   "cell_type": "code",
   "execution_count": 53,
   "metadata": {},
   "outputs": [
    {
     "data": {
      "text/plain": [
       "<_sre.SRE_Match object; span=(0, 3), match='4+2'>"
      ]
     },
     "execution_count": 53,
     "metadata": {},
     "output_type": "execute_result"
    }
   ],
   "source": [
    "re.match(p,'4+2')"
   ]
  },
  {
   "cell_type": "code",
   "execution_count": 54,
   "metadata": {},
   "outputs": [
    {
     "data": {
      "text/plain": [
       "<_sre.SRE_Match object; span=(0, 5), match='4+2*3'>"
      ]
     },
     "execution_count": 54,
     "metadata": {},
     "output_type": "execute_result"
    }
   ],
   "source": [
    "re.match(p,'4+2*3')"
   ]
  },
  {
   "cell_type": "code",
   "execution_count": 22,
   "metadata": {},
   "outputs": [
    {
     "ename": "IndexError",
     "evalue": "string index out of range",
     "output_type": "error",
     "traceback": [
      "\u001b[1;31m---------------------------------------------------------------------------\u001b[0m",
      "\u001b[1;31mIndexError\u001b[0m                                Traceback (most recent call last)",
      "\u001b[1;32m<ipython-input-22-7d2909cebd27>\u001b[0m in \u001b[0;36m<module>\u001b[1;34m()\u001b[0m\n\u001b[0;32m      1\u001b[0m \u001b[1;31m# 第三题\u001b[0m\u001b[1;33m\u001b[0m\u001b[1;33m\u001b[0m\u001b[0m\n\u001b[0;32m      2\u001b[0m \u001b[0mdata\u001b[0m \u001b[1;33m=\u001b[0m\u001b[1;34m'abcdef'\u001b[0m\u001b[1;33m\u001b[0m\u001b[0m\n\u001b[1;32m----> 3\u001b[1;33m \u001b[0mdata\u001b[0m\u001b[1;33m[\u001b[0m\u001b[1;33m-\u001b[0m\u001b[1;36m7\u001b[0m\u001b[1;33m]\u001b[0m\u001b[1;33m\u001b[0m\u001b[0m\n\u001b[0m",
      "\u001b[1;31mIndexError\u001b[0m: string index out of range"
     ]
    }
   ],
   "source": [
    "# 第三题  不可能\n",
    "data ='abcdef'\n",
    "data[-7]"
   ]
  },
  {
   "cell_type": "code",
   "execution_count": 57,
   "metadata": {},
   "outputs": [
    {
     "data": {
      "text/plain": [
       "[('The', 3),\n",
       " ('dog', 3),\n",
       " ('gave', 4),\n",
       " ('John', 4),\n",
       " ('the', 3),\n",
       " ('newspaper', 9)]"
      ]
     },
     "execution_count": 57,
     "metadata": {},
     "output_type": "execute_result"
    }
   ],
   "source": [
    "# 第十题\n",
    "sent=['The','dog','gave','John','the','newspaper']\n",
    "[(w,len(w))for w in sent]"
   ]
  },
  {
   "cell_type": "code",
   "execution_count": 23,
   "metadata": {},
   "outputs": [
    {
     "data": {
      "text/plain": [
       "'ytnom'"
      ]
     },
     "execution_count": 23,
     "metadata": {},
     "output_type": "execute_result"
    }
   ],
   "source": [
    "#第五题\n",
    "'monty'[::-1] "
   ]
  },
  {
   "cell_type": "code",
   "execution_count": 65,
   "metadata": {},
   "outputs": [
    {
     "name": "stdout",
     "output_type": "stream",
     "text": [
      "c\n",
      "o\n",
      "l\n",
      "o\n",
      "u\n",
      "r\n",
      "l\n",
      "e\n",
      "s\n",
      "s\n"
     ]
    }
   ],
   "source": [
    "# 第十二题\n",
    "for i in s:\n",
    "    print(i)"
   ]
  },
  {
   "cell_type": "code",
   "execution_count": 27,
   "metadata": {},
   "outputs": [
    {
     "data": {
      "text/plain": [
       "['aiuio', 'oauaio', 'eouio', 'euoia', 'eaiou', 'uiieioa']"
      ]
     },
     "execution_count": 27,
     "metadata": {},
     "output_type": "execute_result"
    }
   ],
   "source": [
    "# 第四十一题\n",
    "words = ['attribution','confabulation','elocution','sequoia','tenacious','unidirectional']\n",
    "\n",
    "[''.join(x) for word in words\n",
    "    for x in [[b for b in word if b in 'aeiou']]\n",
    "    ]"
   ]
  },
  {
   "cell_type": "code",
   "execution_count": 29,
   "metadata": {
    "collapsed": true
   },
   "outputs": [],
   "source": [
    "result=[]\n",
    "text=['a 10','b 20','c 30']\n",
    "for line in text:\n",
    "    k,j=tuple(line.split())\n",
    "    result.append((k,j))\n",
    "       "
   ]
  },
  {
   "cell_type": "code",
   "execution_count": null,
   "metadata": {},
   "outputs": [],
   "source": []
  },
  {
   "cell_type": "code",
   "execution_count": 14,
   "metadata": {},
   "outputs": [
    {
     "ename": "NameError",
     "evalue": "name 's' is not defined",
     "output_type": "error",
     "traceback": [
      "\u001b[1;31m---------------------------------------------------------------------------\u001b[0m",
      "\u001b[1;31mNameError\u001b[0m                                 Traceback (most recent call last)",
      "\u001b[1;32m<ipython-input-14-95cb0ccf9326>\u001b[0m in \u001b[0;36m<module>\u001b[1;34m()\u001b[0m\n\u001b[0;32m     18\u001b[0m     \u001b[0ms\u001b[0m\u001b[1;33m=\u001b[0m\u001b[0mre\u001b[0m\u001b[1;33m.\u001b[0m\u001b[0msub\u001b[0m\u001b[1;33m(\u001b[0m\u001b[0mp7\u001b[0m\u001b[1;33m,\u001b[0m\u001b[1;34m'5'\u001b[0m\u001b[1;33m,\u001b[0m\u001b[0ms\u001b[0m\u001b[1;33m)\u001b[0m\u001b[1;33m\u001b[0m\u001b[0m\n\u001b[0;32m     19\u001b[0m     \u001b[0ms\u001b[0m\u001b[1;33m=\u001b[0m\u001b[0mre\u001b[0m\u001b[1;33m.\u001b[0m\u001b[0msub\u001b[0m\u001b[1;33m(\u001b[0m\u001b[0mp8\u001b[0m\u001b[1;33m,\u001b[0m\u001b[1;34m'|'\u001b[0m\u001b[1;33m,\u001b[0m\u001b[0ms\u001b[0m\u001b[1;33m)\u001b[0m\u001b[1;33m\u001b[0m\u001b[0m\n\u001b[1;32m---> 20\u001b[1;33m \u001b[0mf\u001b[0m\u001b[1;33m(\u001b[0m\u001b[0ms\u001b[0m\u001b[1;33m)\u001b[0m\u001b[1;33m\u001b[0m\u001b[0m\n\u001b[0m",
      "\u001b[1;31mNameError\u001b[0m: name 's' is not defined"
     ]
    }
   ],
   "source": [
    "# 第二十四题\n",
    "p1=r'e'\n",
    "p2=r'i'\n",
    "p3='o'\n",
    "p4=r'[.]'\n",
    "p5=r'ate'\n",
    "p6=r'^s'\n",
    "p7=r's'\n",
    "p8=r'1'\n",
    "\n",
    "def f(s):\n",
    "    s=re.sub(p1,'3',s)\n",
    "    s=re.sub(p2,'1',s)\n",
    "    s=re.sub(p3,'0',s)\n",
    "    s=re.sub(p4,'5w33t!')\n",
    "    s=re.sub(p5,'8',s)\n",
    "    s=re.sub(p6,'$',s)\n",
    "    s=re.sub(p7,'5',s)\n",
    "    s=re.sub(p8,'|',s)\n",
    "f(s)"
   ]
  },
  {
   "cell_type": "code",
   "execution_count": 104,
   "metadata": {},
   "outputs": [
    {
     "name": "stdout",
     "output_type": "stream",
     "text": [
      "['After', 'all', 'is', 'said', 'and', 'done', ',', 'more', 'is', 'said', 'than', 'done', '.']\n"
     ]
    }
   ],
   "source": [
    "# 第三十一题\n",
    "saying = ['After','all','is','said','and','done',',','more','is','said','than','done','.']\n",
    "lengths=[]\n",
    "for w in saying:\n",
    "    lengths.append(w)\n",
    "lengths= [w for w in saying]\n",
    "print(lengths)"
   ]
  },
  {
   "cell_type": "code",
   "execution_count": 105,
   "metadata": {},
   "outputs": [
    {
     "data": {
      "text/plain": [
       "['an',\n",
       " 'are',\n",
       " 'bland',\n",
       " 'formed',\n",
       " 'ideas',\n",
       " 'in',\n",
       " 'inexpressible',\n",
       " 'infuriating',\n",
       " 'newly',\n",
       " 'way']"
      ]
     },
     "execution_count": 105,
     "metadata": {},
     "output_type": "execute_result"
    }
   ],
   "source": [
    "# 第三十二题\n",
    "silly='newly formed bland ideas are inexpressible in an infuriating way'\n",
    "bland=silly.split()\n",
    "from functools import reduce\n",
    "s=reduce(lambda x,y:x+y,[w[1] for w in bland])\n",
    "' '.join(bland)\n",
    "sorted(bland)"
   ]
  },
  {
   "cell_type": "code",
   "execution_count": 15,
   "metadata": {},
   "outputs": [
    {
     "data": {
      "text/plain": [
       "'e a e e h h h a e h h h h e h a a a h a a h h a e h h e a e h h h a e h a h h e h a h h h a h h h e a e h e a e e h h e h e h a h h a a h h e e a h e e a a a h e h h a h a h h h h h h h e a h h e h h h a h e h h e h h a h e h e a a h e e h e e a h e a h e e e a h h a h h e a a a h h h e h h e h e e a e e h a e h h a a h a h h h h e h a h h e e h h e h a e h e h h h a a h e h e a h h e e h e a h h e h h h a a h h h a h h h h h e h a h h a a a h a a h a a a h h e e h a h h a e e a a h e a h e e e h h e h a h a e h e e h h h h h a h h h h h h a a h a h e e h h h a h h h a h h a h h h e e e h a h e a a h e h e e h h h h a h e h a a h e e a h h a h a h a a e h h a h h h h h e h a h h a h e a h a h a h h e h a e e e h a a h a a h e a a a h h h h h e h h h h h h a e h e e h h h e e h h e e h a'"
      ]
     },
     "execution_count": 15,
     "metadata": {},
     "output_type": "execute_result"
    }
   ],
   "source": [
    "# 第二十七题\n",
    "import random\n",
    "s=[]\n",
    "for i in range(500):\n",
    "    s.append(random.choice(\"aehh \"))\n",
    "    s\n",
    "b=' '.join(s)\n",
    "word=b.split()\n",
    "b=' '.join(word)\n",
    "b\n"
   ]
  },
  {
   "cell_type": "code",
   "execution_count": 109,
   "metadata": {},
   "outputs": [
    {
     "name": "stdout",
     "output_type": "stream",
     "text": [
      "上海 东北风 23.5\n"
     ]
    }
   ],
   "source": [
    "# 第二十题\n",
    "import requests\n",
    "r=requests.get('http://www.weather.com.cn/data/sk/101020100.html')\n",
    "r.encoding = 'utf-8'\n",
    "print(r.json()['weatherinfo']['city'],r.json()['weatherinfo']['WD'],r.json()['weatherinfo']['temp'])"
   ]
  },
  {
   "cell_type": "code",
   "execution_count": null,
   "metadata": {},
   "outputs": [],
   "source": []
  },
  {
   "cell_type": "code",
   "execution_count": 17,
   "metadata": {},
   "outputs": [
    {
     "name": "stdout",
     "output_type": "stream",
     "text": [
      "{2*3+8}\n"
     ]
    }
   ],
   "source": [
    "nltk.re_show('\\d+\\*\\d+\\+\\d+','2*3+8',left='{',right='}')\n"
   ]
  },
  {
   "cell_type": "code",
   "execution_count": 18,
   "metadata": {},
   "outputs": [
    {
     "data": {
      "text/plain": [
       "[('whichreceivesnoneofthismoney', ''),\n",
       " ('whichhasbeenunderfireforitspracticesintheappointmentofappraisers', ''),\n",
       " ('whenthenewmanagementtakescharge', ''),\n",
       " ('whobecameacandidateinthe', '')]"
      ]
     },
     "execution_count": 18,
     "metadata": {},
     "output_type": "execute_result"
    }
   ],
   "source": [
    "# 第十八题\n",
    "from nltk.corpus import brown\n",
    "pattern=r'''(?x)\n",
    "(wh[a-z]{1,})|(Wh[a-z]{1,})'''\n",
    "text=nltk.Text(brown.words(categories='news'))\n",
    "test='' .join(text[300:1000])\n",
    "nltk.regexp_tokenize(test,pattern)\n"
   ]
  },
  {
   "cell_type": "code",
   "execution_count": 20,
   "metadata": {},
   "outputs": [],
   "source": [
    "def pig_word(word):\n",
    "\n",
    "    for i in range(len(word)):\n",
    "\n",
    "        if word[i] in '[AEIOUaeiou]':\n",
    "\n",
    "            pigword=[word[i:],word[:i],'ay']\n",
    "\n",
    "            result=''.join(pigword)\n",
    "\n",
    "    return result\n"
   ]
  },
  {
   "cell_type": "code",
   "execution_count": 24,
   "metadata": {},
   "outputs": [
    {
     "data": {
      "text/plain": [
       "['sadk', 'dsap']"
      ]
     },
     "execution_count": 24,
     "metadata": {},
     "output_type": "execute_result"
    }
   ],
   "source": [
    "# 第十一题\n",
    "a= 'raw'\n",
    "data = 'sadkrawdsap'\n",
    "data.split(a)\n"
   ]
  },
  {
   "cell_type": "code",
   "execution_count": 25,
   "metadata": {},
   "outputs": [
    {
     "name": "stdout",
     "output_type": "stream",
     "text": [
      "['as', 'vf', 'rd', 'oe']\n",
      "['as', 'oe', 'rd', 'vf']\n",
      "==================\n",
      "['as', 'vf', 'rd', 'oe']\n",
      "['as', 'oe', 'rd', 'vf']\n",
      "['as', 'vf', 'rd', 'oe']\n"
     ]
    }
   ],
   "source": [
    "# 第十四题\n",
    "words = ['as','vf','rd','oe']\n",
    "print(words)\n",
    "words.sort()  \n",
    "print(words)\n",
    "print('==================')\n",
    "words = ['as','vf','rd','oe']\n",
    "print(words)\n",
    "print(sorted(words))  \n",
    "print(words)\n"
   ]
  },
  {
   "cell_type": "code",
   "execution_count": 28,
   "metadata": {},
   "outputs": [
    {
     "name": "stdout",
     "output_type": "stream",
     "text": [
      "12.345678343543545\n",
      "12.345678343543545\n"
     ]
    }
   ],
   "source": [
    "# 第十七题\n",
    "data = '12.345678343543545'\n",
    "print('%6s'%data)\n",
    "print('%-6s'%data)"
   ]
  },
  {
   "cell_type": "code",
   "execution_count": 26,
   "metadata": {},
   "outputs": [
    {
     "name": "stdout",
     "output_type": "stream",
     "text": [
      "['wode 12\\n', 'data 32\\n', 'ppt 18']\n",
      "[['wode', 12], ['data', 32], ['ppt', 18]]\n"
     ]
    }
   ],
   "source": [
    "# 第十九题\n",
    "word = open('312.txt','w')\n",
    "word.write('wode 12\\ndata 32\\nppt 18')\n",
    "word.close()\n",
    "\n",
    "wordcs = open('312.txt')\n",
    "row = wordcs.readlines()\n",
    "print(row)\n",
    "print([[x,int(i)] for x,i in [x.split() for x in row]])\n",
    "wordcs.close()\n"
   ]
  },
  {
   "cell_type": "code",
   "execution_count": 5,
   "metadata": {},
   "outputs": [
    {
     "data": {
      "text/plain": [
       "[('', 'The'), ('$5', '')]"
      ]
     },
     "execution_count": 5,
     "metadata": {},
     "output_type": "execute_result"
    }
   ],
   "source": [
    "# 第九题 \n",
    "import nltk\n",
    "text=\"The book is $5\"\n",
    "pattern=r'''(?x)\n",
    "(\\$\\d)|([A-Z][a-z]{1,})'''\n",
    "nltk.regexp_tokenize(text,pattern)"
   ]
  },
  {
   "cell_type": "code",
   "execution_count": 2,
   "metadata": {},
   "outputs": [
    {
     "name": "stdout",
     "output_type": "stream",
     "text": [
      "3333333\n",
      "21\n"
     ]
    },
    {
     "data": {
      "text/plain": [
       "'3'"
      ]
     },
     "execution_count": 2,
     "metadata": {},
     "output_type": "execute_result"
    }
   ],
   "source": [
    "# 第十五题\n",
    "print(\"3\"*7)\n",
    "print(3*7)\n",
    "int(\"3\")\n",
    "str(3)"
   ]
  },
  {
   "cell_type": "code",
   "execution_count": null,
   "metadata": {
    "collapsed": true
   },
   "outputs": [],
   "source": []
  }
 ],
 "metadata": {
  "kernelspec": {
   "display_name": "Python 3",
   "language": "python",
   "name": "python3"
  },
  "language_info": {
   "codemirror_mode": {
    "name": "ipython",
    "version": 3
   },
   "file_extension": ".py",
   "mimetype": "text/x-python",
   "name": "python",
   "nbconvert_exporter": "python",
   "pygments_lexer": "ipython3",
   "version": "3.6.3"
  }
 },
 "nbformat": 4,
 "nbformat_minor": 2
}
