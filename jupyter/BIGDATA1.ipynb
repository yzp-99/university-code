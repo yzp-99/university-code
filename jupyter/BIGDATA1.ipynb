{
 "cells": [
  {
   "cell_type": "code",
   "execution_count": 61,
   "metadata": {},
   "outputs": [
    {
     "name": "stdout",
     "output_type": "stream",
     "text": [
      "     类别     书名    作者\n",
      "0    小说    NaN    老舍\n",
      "1    散文     皮囊  None\n",
      "2  青春文学  旅程结束时   张其新\n",
      "3    传记   老舍自传    老舍\n"
     ]
    }
   ],
   "source": [
    "import numpy as np\n",
    "import pandas as pd\n",
    "\n",
    "data=np.array([[\"小说\",np.NaN,\"老舍\"],\n",
    "               [\"散文\",\"皮囊\",None],\n",
    "              [\"青春文学\",\"旅程结束时\",\"张其新\"],\n",
    "              [\"传记\",\"老舍自传\",\"老舍\"]])\n",
    "df=pd.DataFrame(data,columns=[\"类别\",\"书名\",\"作者\"])\n",
    "\n",
    "\n",
    "df.fillna(method=\"bfill\")\n",
    "df.fillna(method=\"ffill\")\n",
    "print(df)"
   ]
  },
  {
   "cell_type": "code",
   "execution_count": null,
   "metadata": {},
   "outputs": [],
   "source": []
  },
  {
   "cell_type": "code",
   "execution_count": null,
   "metadata": {
    "collapsed": true
   },
   "outputs": [],
   "source": []
  },
  {
   "cell_type": "code",
   "execution_count": null,
   "metadata": {
    "collapsed": true
   },
   "outputs": [],
   "source": []
  }
 ],
 "metadata": {
  "kernelspec": {
   "display_name": "Python 3",
   "language": "python",
   "name": "python3"
  },
  "language_info": {
   "codemirror_mode": {
    "name": "ipython",
    "version": 3
   },
   "file_extension": ".py",
   "mimetype": "text/x-python",
   "name": "python",
   "nbconvert_exporter": "python",
   "pygments_lexer": "ipython3",
   "version": "3.6.3"
  }
 },
 "nbformat": 4,
 "nbformat_minor": 2
}
