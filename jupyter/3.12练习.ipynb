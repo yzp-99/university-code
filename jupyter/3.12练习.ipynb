{
 "cells": [
  {
   "cell_type": "code",
   "execution_count": 41,
   "metadata": {},
   "outputs": [
    {
     "data": {
      "text/plain": [
       "'colourless'"
      ]
     },
     "execution_count": 41,
     "metadata": {},
     "output_type": "execute_result"
    }
   ],
   "source": [
    "#1题\n",
    "s = 'colorless'\n",
    "#变成 \"colourless\",只是用切片和连接\n",
    "data = [x for x in s]\n",
    "data[3] =data[3]+'u'\n",
    "''.join(data)"
   ]
  },
  {
   "cell_type": "code",
   "execution_count": 40,
   "metadata": {},
   "outputs": [
    {
     "data": {
      "text/plain": [
       "['dish', 'run', 'nation', 'un', 'pre']"
      ]
     },
     "execution_count": 40,
     "metadata": {},
     "output_type": "execute_result"
    }
   ],
   "source": [
    "# 2题\n",
    "data = ['dish-es','run-ning','nation-ality','un-do','pre-heat']\n",
    "data1 = []\n",
    "for i in data:\n",
    "    data1.append(i.split('-')[0])\n",
    "data1"
   ]
  },
  {
   "cell_type": "code",
   "execution_count": 27,
   "metadata": {},
   "outputs": [
    {
     "ename": "IndexError",
     "evalue": "string index out of range",
     "output_type": "error",
     "traceback": [
      "\u001b[1;31m---------------------------------------------------------------------------\u001b[0m",
      "\u001b[1;31mIndexError\u001b[0m                                Traceback (most recent call last)",
      "\u001b[1;32m<ipython-input-27-65d5203f146a>\u001b[0m in \u001b[0;36m<module>\u001b[1;34m()\u001b[0m\n\u001b[0;32m      1\u001b[0m \u001b[1;31m#3题\u001b[0m\u001b[1;33m\u001b[0m\u001b[1;33m\u001b[0m\u001b[0m\n\u001b[0;32m      2\u001b[0m \u001b[0mdata\u001b[0m \u001b[1;33m=\u001b[0m\u001b[1;34m'abcde'\u001b[0m\u001b[1;33m\u001b[0m\u001b[0m\n\u001b[1;32m----> 3\u001b[1;33m \u001b[0mdata\u001b[0m\u001b[1;33m[\u001b[0m\u001b[1;33m-\u001b[0m\u001b[1;36m6\u001b[0m\u001b[1;33m]\u001b[0m\u001b[1;33m\u001b[0m\u001b[0m\n\u001b[0m",
      "\u001b[1;31mIndexError\u001b[0m: string index out of range"
     ]
    }
   ],
   "source": [
    "#3题,超出字符前端的索引\n",
    "data ='abcde'\n",
    "data[-6]"
   ]
  },
  {
   "cell_type": "code",
   "execution_count": 38,
   "metadata": {},
   "outputs": [
    {
     "name": "stdout",
     "output_type": "stream",
     "text": [
      "ioazi\n",
      "ifraiain\n",
      "informatization\n"
     ]
    }
   ],
   "source": [
    "# 4题\n",
    "print('informatization'[0::3])\n",
    "print('informatization'[0::2])\n",
    "print('informatization'[0::1])"
   ]
  },
  {
   "cell_type": "code",
   "execution_count": 39,
   "metadata": {},
   "outputs": [
    {
     "data": {
      "text/plain": [
       "'ytnom'"
      ]
     },
     "execution_count": 39,
     "metadata": {},
     "output_type": "execute_result"
    }
   ],
   "source": [
    "#5题\n",
    "'monty'[::-1] #将字符串倒着显示出来，步长为1"
   ]
  },
  {
   "cell_type": "code",
   "execution_count": 53,
   "metadata": {
    "collapsed": true
   },
   "outputs": [],
   "source": [
    "import nltk\n",
    "import re"
   ]
  },
  {
   "cell_type": "code",
   "execution_count": 143,
   "metadata": {},
   "outputs": [
    {
     "name": "stdout",
     "output_type": "stream",
     "text": [
      "{wiy}{,][;}\n"
     ]
    }
   ],
   "source": [
    "# 6\n",
    "#正则表达式匹配的字符串类\n",
    "# [a-zA-Z]+    任意个英文字母\n",
    "# [A-Z][a-z]+  第一个为大写字母，随后为任意个小写字母\n",
    "# p[aeiou]{,2}t  #p开头，[aeiou]中的字母出现0到两次，\n",
    "# \\d+(\\.\\d+)?    #整数，小数\n",
    "# ([^aeiou][aeiou][^aeiou])*  # 第一个字母不为[ieouu]，第二个字母为[ieouu]，第三个字母不为[ieouu]\n",
    "# \\w+|[^\\w\\s]+\n",
    "\n",
    "\n",
    "data = '''wiy,][;'''\n",
    "nltk.re_show('\\w+|[^\\w\\s]+',data)\n",
    "\n",
    "    "
   ]
  },
  {
   "cell_type": "code",
   "execution_count": 169,
   "metadata": {},
   "outputs": [
    {
     "name": "stdout",
     "output_type": "stream",
     "text": [
      "1+27*81\n"
     ]
    }
   ],
   "source": [
    "# 7\n",
    "data = '1+27*81'\n",
    "if re.search('a|an|the',data):\n",
    "    print(data)\n",
    "if re.search('\\d[+\\*]\\d',data):\n",
    "    print(data)"
   ]
  },
  {
   "cell_type": "code",
   "execution_count": 176,
   "metadata": {
    "scrolled": true
   },
   "outputs": [
    {
     "data": {
      "text/plain": [
       "[('The', 3),\n",
       " ('dog', 3),\n",
       " ('gave', 4),\n",
       " ('John', 4),\n",
       " ('the', 3),\n",
       " ('newspaper', 9)]"
      ]
     },
     "execution_count": 176,
     "metadata": {},
     "output_type": "execute_result"
    }
   ],
   "source": [
    "# 10\n",
    "sent = ['The','dog','gave','John','the','newspaper']\n",
    "[(x,len(x)) for x in sent]"
   ]
  },
  {
   "cell_type": "code",
   "execution_count": 184,
   "metadata": {},
   "outputs": [
    {
     "data": {
      "text/plain": [
       "['sadk', 'dsap']"
      ]
     },
     "execution_count": 184,
     "metadata": {},
     "output_type": "execute_result"
    }
   ],
   "source": [
    "# 11\n",
    "a= 'raw'\n",
    "data = 'sadkrawdsap'\n",
    "data.split(a)\n"
   ]
  },
  {
   "cell_type": "code",
   "execution_count": 186,
   "metadata": {},
   "outputs": [
    {
     "name": "stdout",
     "output_type": "stream",
     "text": [
      "a\n",
      "s\n",
      "d\n",
      "f\n",
      "h\n",
      "j\n",
      "k\n",
      "l\n",
      ";\n"
     ]
    }
   ],
   "source": [
    "# 12\n",
    "data = 'asdfhjkl;'\n",
    "for i in data:\n",
    "    print(i)"
   ]
  },
  {
   "cell_type": "code",
   "execution_count": 193,
   "metadata": {},
   "outputs": [
    {
     "name": "stdout",
     "output_type": "stream",
     "text": [
      "doi ioa\tsd\n",
      "['doi', 'ioa', 'sd']\n",
      "['doi', 'ioa\\tsd']\n"
     ]
    }
   ],
   "source": [
    "# 13\n",
    "sent = 'doi ioa\\tsd'\n",
    "print(sent)\n",
    "print(sent.split())  #以空格以及某些特殊符号进行切割\n",
    "print(sent.split(' '))  # 一空格切割"
   ]
  },
  {
   "cell_type": "code",
   "execution_count": 201,
   "metadata": {},
   "outputs": [
    {
     "name": "stdout",
     "output_type": "stream",
     "text": [
      "['as', 'vf', 'rd', 'oe']\n",
      "['as', 'oe', 'rd', 'vf']\n",
      "==================\n",
      "['as', 'vf', 'rd', 'oe']\n",
      "['as', 'oe', 'rd', 'vf']\n",
      "['as', 'vf', 'rd', 'oe']\n"
     ]
    }
   ],
   "source": [
    "# 14\n",
    "words = ['as','vf','rd','oe']\n",
    "print(words)\n",
    "words.sort()  # 排序，改变自身\n",
    "print(words)\n",
    "print('==================')\n",
    "words = ['as','vf','rd','oe']\n",
    "print(words)\n",
    "print(sorted(words))  #排序，不改变自身\n",
    "print(words)\n"
   ]
  },
  {
   "cell_type": "code",
   "execution_count": 202,
   "metadata": {},
   "outputs": [
    {
     "name": "stdout",
     "output_type": "stream",
     "text": [
      "33333333\n",
      "24\n"
     ]
    }
   ],
   "source": [
    "# 15\n",
    "print('3'*8)\n",
    "print(3*8)"
   ]
  },
  {
   "cell_type": "code",
   "execution_count": 208,
   "metadata": {},
   "outputs": [
    {
     "name": "stdout",
     "output_type": "stream",
     "text": [
      "12.345678343543545\n",
      "12.345678343543545\n"
     ]
    }
   ],
   "source": [
    "# 17\n",
    "data = '12.345678343543545'\n",
    "print('%6s'%data)\n",
    "print('%-6s'%data)"
   ]
  },
  {
   "cell_type": "code",
   "execution_count": 25,
   "metadata": {},
   "outputs": [
    {
     "name": "stdout",
     "output_type": "stream",
     "text": [
      "['wode 12\\n', 'data 32\\n', 'ppt 18']\n",
      "[['wode', 12], ['data', 32], ['ppt', 18]]\n"
     ]
    }
   ],
   "source": [
    "# 19\n",
    "word = open('312.txt','w')\n",
    "word.write('wode 12\\ndata 32\\nppt 18')\n",
    "word.close()\n",
    "\n",
    "wordcs = open('312.txt')\n",
    "row = wordcs.readlines()\n",
    "print(row)\n",
    "print([[x,int(i)] for x,i in [x.split() for x in row]])\n",
    "wordcs.close()\n"
   ]
  },
  {
   "cell_type": "code",
   "execution_count": 37,
   "metadata": {},
   "outputs": [
    {
     "data": {
      "text/plain": [
       "'hhhaeahahhhaeahahaeeeaahehehehaheheheehhhheahaheheeeeeeeeaeheahhhhaheahhahahheheheeehehaehaaehhhaeheehaeheehhaahaaehhahaehhahhhahhhhhhahhhheheaehhheheahahaaaeaehehhheaeaehaahehaaeehahehahaaeaahaeehhhheehaahahaehhhaaehahaeehaehaaahheahhaaaheeehaeehhhahhhahaeheahhhheaheheeaaehehahhhaahaaheehhhaaahhhehhheaaeeahhahaeaaheheahheahhehheheeehehehhhhhahaeeeaehhheahehhaeeahhhhhhhehhahahhhaeaehahhhhhhahhaahhhahee'"
      ]
     },
     "execution_count": 37,
     "metadata": {},
     "output_type": "execute_result"
    }
   ],
   "source": [
    "#27\n",
    "import random\n",
    "data = [x for i in range(500)\n",
    "    for x in [random.choice('aehh ')]]\n",
    "data1 = ''.join(data)\n",
    "data1_ = data1.split()\n",
    "data2 = ''.join(data1_)\n",
    "data2"
   ]
  },
  {
   "cell_type": "code",
   "execution_count": 209,
   "metadata": {},
   "outputs": [
    {
     "name": "stdout",
     "output_type": "stream",
     "text": [
      "['After', 'all', 'is', 'said', 'and', 'done', ',', 'more', 'is', 'said', 'than', 'done']\n",
      "[5, 3, 2, 4, 3, 4, 1, 4, 2, 4, 4, 4]\n"
     ]
    }
   ],
   "source": [
    "# 31\n",
    "saying = ['After','all','is','said','and','done',',','more','is','said','than','done']\n",
    "lengths=[]\n",
    "for i in saying:\n",
    "    lengths.append(len(i))\n",
    "print(saying)\n",
    "print(lengths)"
   ]
  },
  {
   "cell_type": "code",
   "execution_count": 222,
   "metadata": {},
   "outputs": [
    {
     "name": "stdout",
     "output_type": "stream",
     "text": [
      "['newly', 'formed', 'bland', 'ideas', 'are', 'inexpressibke', 'in', 'an', 'infuriating', 'way']\n",
      "eoldrnnnna\n",
      "newly formed bland ideas are inexpressibke in an infuriating way\n",
      "=====\n",
      "an\n",
      "are\n",
      "bland\n",
      "formed\n",
      "ideas\n",
      "in\n",
      "inexpressibke\n",
      "infuriating\n",
      "newly\n",
      "way\n"
     ]
    }
   ],
   "source": [
    "# 32\n",
    "saying = 'newly formed bland ideas are inexpressibke in an infuriating way'\n",
    "# a\n",
    "bland = saying.split(' ')\n",
    "print(bland)\n",
    "# b\n",
    "print(''.join([x[1] for x in bland]))\n",
    "# c\n",
    "print(' '.join(bland))\n",
    "# d\n",
    "print('=====')\n",
    "bland_d = sorted(bland)\n",
    "for i in bland_d:\n",
    "    print(i)\n",
    "\n"
   ]
  },
  {
   "cell_type": "code",
   "execution_count": 230,
   "metadata": {},
   "outputs": [
    {
     "name": "stdout",
     "output_type": "stream",
     "text": [
      "5\n",
      "7\n",
      "['newly', 'formed', 'bland', 'ideas', 'are', 'inexpressibke', 'in', 'an', 'infuriating', 'way']\n",
      "['newly', 'formed', 'bland', 'ideas', 'are', 'inexpressibke']\n"
     ]
    }
   ],
   "source": [
    "# 33\n",
    "print('inexpressible'.index('re'))\n",
    "words = ['an','the','one','work','formed', 'bland', 'ideas', 'are']\n",
    "print(words.index('are'))\n",
    "print(bland)\n",
    "phrase = bland[:bland.index('in')]\n",
    "print(phrase)"
   ]
  },
  {
   "cell_type": "code",
   "execution_count": 13,
   "metadata": {},
   "outputs": [
    {
     "data": {
      "text/plain": [
       "['aiuio', 'oauaio', 'eouio', 'euoia', 'eaiou', 'uiieioa']"
      ]
     },
     "execution_count": 13,
     "metadata": {},
     "output_type": "execute_result"
    }
   ],
   "source": [
    "#141页\n",
    "# 41\n",
    "words = ['attribution','confabulation','elocution','sequoia','tenacious','unidirectional']\n",
    "\n",
    "[''.join(x) for word in words\n",
    "    for x in [[b for b in word if b in 'aeiou']]\n",
    "    ]"
   ]
  },
  {
   "cell_type": "code",
   "execution_count": null,
   "metadata": {
    "collapsed": true
   },
   "outputs": [],
   "source": []
  }
 ],
 "metadata": {
  "kernelspec": {
   "display_name": "Python 3",
   "language": "python",
   "name": "python3"
  },
  "language_info": {
   "codemirror_mode": {
    "name": "ipython",
    "version": 3
   },
   "file_extension": ".py",
   "mimetype": "text/x-python",
   "name": "python",
   "nbconvert_exporter": "python",
   "pygments_lexer": "ipython3",
   "version": "3.6.3"
  }
 },
 "nbformat": 4,
 "nbformat_minor": 2
}
