{
 "cells": [
  {
   "cell_type": "code",
   "execution_count": null,
   "metadata": {},
   "outputs": [],
   "source": [
    "import tensorflow as tf\n",
    "# 定义两个向量a,b\n",
    "a = tf.constant([1,2],name='a')\n",
    "b = tf.constant([2,3],name='b')\n",
    "result=a+b\n",
    "print(result)\n",
    "sess=tf.Session()#  生成一个会话，通过一个会话session来计算结果\n",
    "print(sess.run(result))\n",
    "sess.close() #  关闭会话"
   ]
  },
  {
   "cell_type": "code",
   "execution_count": 9,
   "metadata": {},
   "outputs": [
    {
     "name": "stdout",
     "output_type": "stream",
     "text": [
      "[[ 0.  0.  0.  0.  0.  0.  0.  0.  0.  0.  0.  0.  0.  0.  0.  0.  0.  0.\n",
      "   0.  0.  0.  0.  0.  0.  0.  0.  0.  0.  0.  0.  0.  0.  0.  0.  0.  0.\n",
      "   0.  0.  0.  0.  0.  0.  0.  0.  0.  0.  0.  0.  0.  0.  0.  0.  0.  0.\n",
      "   0.  0.  0.  0.  0.  0.  0.  0.  0.  0.  0.  0.  0.  0.  0.  0.  0.  0.\n",
      "   0.  0.  0.  0.  0.  0.  0.  0.  0.  0.  0.  0.  0.  0.  0.  0.  0.  0.\n",
      "   0.  0.  0.  0.  0.  0.  0.  0.  0.  0.]]\n"
     ]
    }
   ],
   "source": [
    "import tensorflow as tf\n",
    "import numpy as np\n",
    "x_data = np.float32(np.random.rand(2,100))\n",
    "y_data = np.float32(np.dot([0.1, 0.2], x_data)+0.3)\n",
    "\n",
    "w = tf.Variable(tf.zeros([1,2]))\n",
    "bias = tf.Variable(tf.zeros([1]))\n",
    "y =tf.matmul(w, x_data)+bias # 构建线性方程 \n",
    "init = tf.global_variables_initializer()\n",
    "\n",
    "sess = tf.Session()\n",
    "sess.run(init)\n",
    "pre_y = sess.run(y)\n",
    "sess.close()\n",
    "\n",
    "print(pre_y)"
   ]
  },
  {
   "cell_type": "code",
   "execution_count": null,
   "metadata": {},
   "outputs": [],
   "source": [
    "import tensorflow as tf\n",
    "import numpy as np\n",
    "x_data = np.float32(np.random.rand(2, 100))\n",
    "y_data = np.float32(np.dot([0.1, 0.2], x_data)+0.3)\n",
    "\n",
    "w = tf.Variable(tf.zeros([1,2]))\n",
    "bias = tf.Variable(tf.zeros([1])) \n",
    "y = tf.matmul(w,x_data)+bias\n",
    "\n",
    "loss = tf.reduce_mean(tf.square(y-y_data))\n",
    "optimizer = tf.train.GradientDescentOptimizer(0.5)\n",
    "train = optimizer.minimize(loss)\n",
    "\n",
    "init = tf.global_variables_initializer()\n",
    "sess = tf.Session()\n",
    "sess.run(init)\n",
    "for i in range(100):\n",
    "    w1,b1 =sess.run([w,bias])\n",
    "    print(w1,b1)\n",
    "    sess.run(train)# 模型训练\n",
    "sess.close()\n",
    "    \n"
   ]
  },
  {
   "cell_type": "code",
   "execution_count": null,
   "metadata": {
    "collapsed": true
   },
   "outputs": [],
   "source": []
  }
 ],
 "metadata": {
  "kernelspec": {
   "display_name": "Python 3",
   "language": "python",
   "name": "python3"
  },
  "language_info": {
   "codemirror_mode": {
    "name": "ipython",
    "version": 3
   },
   "file_extension": ".py",
   "mimetype": "text/x-python",
   "name": "python",
   "nbconvert_exporter": "python",
   "pygments_lexer": "ipython3",
   "version": "3.6.3"
  }
 },
 "nbformat": 4,
 "nbformat_minor": 2
}
